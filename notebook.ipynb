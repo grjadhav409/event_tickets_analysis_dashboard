{
 "cells": [
  {
   "cell_type": "code",
   "execution_count": 35,
   "metadata": {},
   "outputs": [
    {
     "name": "stdout",
     "output_type": "stream",
     "text": [
      "size:  (5000, 36)\n"
     ]
    },
    {
     "data": {
      "text/html": [
       "<div>\n",
       "<style scoped>\n",
       "    .dataframe tbody tr th:only-of-type {\n",
       "        vertical-align: middle;\n",
       "    }\n",
       "\n",
       "    .dataframe tbody tr th {\n",
       "        vertical-align: top;\n",
       "    }\n",
       "\n",
       "    .dataframe thead th {\n",
       "        text-align: right;\n",
       "    }\n",
       "</style>\n",
       "<table border=\"1\" class=\"dataframe\">\n",
       "  <thead>\n",
       "    <tr style=\"text-align: right;\">\n",
       "      <th></th>\n",
       "      <th>number</th>\n",
       "      <th>incident_state</th>\n",
       "      <th>active</th>\n",
       "      <th>reassignment_count</th>\n",
       "      <th>reopen_count</th>\n",
       "      <th>sys_mod_count</th>\n",
       "      <th>made_sla</th>\n",
       "      <th>caller_id</th>\n",
       "      <th>opened_by</th>\n",
       "      <th>opened_at</th>\n",
       "      <th>sys_created_by</th>\n",
       "      <th>sys_created_at</th>\n",
       "      <th>sys_updated_by</th>\n",
       "      <th>sys_updated_at</th>\n",
       "      <th>contact_type</th>\n",
       "      <th>location</th>\n",
       "      <th>category</th>\n",
       "      <th>subcategory</th>\n",
       "      <th>u_symptom</th>\n",
       "      <th>cmdb_ci</th>\n",
       "      <th>impact</th>\n",
       "      <th>urgency</th>\n",
       "      <th>priority</th>\n",
       "      <th>assignment_group</th>\n",
       "      <th>assigned_to</th>\n",
       "      <th>knowledge</th>\n",
       "      <th>u_priority_confirmation</th>\n",
       "      <th>notify</th>\n",
       "      <th>problem_id</th>\n",
       "      <th>rfc</th>\n",
       "      <th>vendor</th>\n",
       "      <th>caused_by</th>\n",
       "      <th>closed_code</th>\n",
       "      <th>resolved_by</th>\n",
       "      <th>resolved_at</th>\n",
       "      <th>closed_at</th>\n",
       "    </tr>\n",
       "  </thead>\n",
       "  <tbody>\n",
       "    <tr>\n",
       "      <th>0</th>\n",
       "      <td>INC0000045</td>\n",
       "      <td>New</td>\n",
       "      <td>True</td>\n",
       "      <td>0</td>\n",
       "      <td>0</td>\n",
       "      <td>0</td>\n",
       "      <td>True</td>\n",
       "      <td>Caller 2403</td>\n",
       "      <td>Opened by  8</td>\n",
       "      <td>29/2/2016 01:16</td>\n",
       "      <td>Created by 6</td>\n",
       "      <td>29/2/2016 01:23</td>\n",
       "      <td>Updated by 21</td>\n",
       "      <td>29/2/2016 01:23</td>\n",
       "      <td>Phone</td>\n",
       "      <td>Location 143</td>\n",
       "      <td>Category 55</td>\n",
       "      <td>Subcategory 170</td>\n",
       "      <td>Symptom 72</td>\n",
       "      <td>?</td>\n",
       "      <td>2 - Medium</td>\n",
       "      <td>2 - Medium</td>\n",
       "      <td>3 - Moderate</td>\n",
       "      <td>Group 56</td>\n",
       "      <td>?</td>\n",
       "      <td>True</td>\n",
       "      <td>False</td>\n",
       "      <td>Do Not Notify</td>\n",
       "      <td>?</td>\n",
       "      <td>?</td>\n",
       "      <td>?</td>\n",
       "      <td>?</td>\n",
       "      <td>code 5</td>\n",
       "      <td>Resolved by 149</td>\n",
       "      <td>29/2/2016 11:29</td>\n",
       "      <td>5/3/2016 12:00</td>\n",
       "    </tr>\n",
       "    <tr>\n",
       "      <th>1</th>\n",
       "      <td>INC0000045</td>\n",
       "      <td>Resolved</td>\n",
       "      <td>True</td>\n",
       "      <td>0</td>\n",
       "      <td>0</td>\n",
       "      <td>2</td>\n",
       "      <td>True</td>\n",
       "      <td>Caller 2403</td>\n",
       "      <td>Opened by  8</td>\n",
       "      <td>29/2/2016 01:16</td>\n",
       "      <td>Created by 6</td>\n",
       "      <td>29/2/2016 01:23</td>\n",
       "      <td>Updated by 642</td>\n",
       "      <td>29/2/2016 08:53</td>\n",
       "      <td>Phone</td>\n",
       "      <td>Location 143</td>\n",
       "      <td>Category 55</td>\n",
       "      <td>Subcategory 170</td>\n",
       "      <td>Symptom 72</td>\n",
       "      <td>?</td>\n",
       "      <td>2 - Medium</td>\n",
       "      <td>2 - Medium</td>\n",
       "      <td>3 - Moderate</td>\n",
       "      <td>Group 56</td>\n",
       "      <td>?</td>\n",
       "      <td>True</td>\n",
       "      <td>False</td>\n",
       "      <td>Do Not Notify</td>\n",
       "      <td>?</td>\n",
       "      <td>?</td>\n",
       "      <td>?</td>\n",
       "      <td>?</td>\n",
       "      <td>code 5</td>\n",
       "      <td>Resolved by 149</td>\n",
       "      <td>29/2/2016 11:29</td>\n",
       "      <td>5/3/2016 12:00</td>\n",
       "    </tr>\n",
       "    <tr>\n",
       "      <th>2</th>\n",
       "      <td>INC0000045</td>\n",
       "      <td>Resolved</td>\n",
       "      <td>True</td>\n",
       "      <td>0</td>\n",
       "      <td>0</td>\n",
       "      <td>3</td>\n",
       "      <td>True</td>\n",
       "      <td>Caller 2403</td>\n",
       "      <td>Opened by  8</td>\n",
       "      <td>29/2/2016 01:16</td>\n",
       "      <td>Created by 6</td>\n",
       "      <td>29/2/2016 01:23</td>\n",
       "      <td>Updated by 804</td>\n",
       "      <td>29/2/2016 11:29</td>\n",
       "      <td>Phone</td>\n",
       "      <td>Location 143</td>\n",
       "      <td>Category 55</td>\n",
       "      <td>Subcategory 170</td>\n",
       "      <td>Symptom 72</td>\n",
       "      <td>?</td>\n",
       "      <td>2 - Medium</td>\n",
       "      <td>2 - Medium</td>\n",
       "      <td>3 - Moderate</td>\n",
       "      <td>Group 56</td>\n",
       "      <td>?</td>\n",
       "      <td>True</td>\n",
       "      <td>False</td>\n",
       "      <td>Do Not Notify</td>\n",
       "      <td>?</td>\n",
       "      <td>?</td>\n",
       "      <td>?</td>\n",
       "      <td>?</td>\n",
       "      <td>code 5</td>\n",
       "      <td>Resolved by 149</td>\n",
       "      <td>29/2/2016 11:29</td>\n",
       "      <td>5/3/2016 12:00</td>\n",
       "    </tr>\n",
       "    <tr>\n",
       "      <th>3</th>\n",
       "      <td>INC0000045</td>\n",
       "      <td>Closed</td>\n",
       "      <td>False</td>\n",
       "      <td>0</td>\n",
       "      <td>0</td>\n",
       "      <td>4</td>\n",
       "      <td>True</td>\n",
       "      <td>Caller 2403</td>\n",
       "      <td>Opened by  8</td>\n",
       "      <td>29/2/2016 01:16</td>\n",
       "      <td>Created by 6</td>\n",
       "      <td>29/2/2016 01:23</td>\n",
       "      <td>Updated by 908</td>\n",
       "      <td>5/3/2016 12:00</td>\n",
       "      <td>Phone</td>\n",
       "      <td>Location 143</td>\n",
       "      <td>Category 55</td>\n",
       "      <td>Subcategory 170</td>\n",
       "      <td>Symptom 72</td>\n",
       "      <td>?</td>\n",
       "      <td>2 - Medium</td>\n",
       "      <td>2 - Medium</td>\n",
       "      <td>3 - Moderate</td>\n",
       "      <td>Group 56</td>\n",
       "      <td>?</td>\n",
       "      <td>True</td>\n",
       "      <td>False</td>\n",
       "      <td>Do Not Notify</td>\n",
       "      <td>?</td>\n",
       "      <td>?</td>\n",
       "      <td>?</td>\n",
       "      <td>?</td>\n",
       "      <td>code 5</td>\n",
       "      <td>Resolved by 149</td>\n",
       "      <td>29/2/2016 11:29</td>\n",
       "      <td>5/3/2016 12:00</td>\n",
       "    </tr>\n",
       "    <tr>\n",
       "      <th>4</th>\n",
       "      <td>INC0000047</td>\n",
       "      <td>New</td>\n",
       "      <td>True</td>\n",
       "      <td>0</td>\n",
       "      <td>0</td>\n",
       "      <td>0</td>\n",
       "      <td>True</td>\n",
       "      <td>Caller 2403</td>\n",
       "      <td>Opened by  397</td>\n",
       "      <td>29/2/2016 04:40</td>\n",
       "      <td>Created by 171</td>\n",
       "      <td>29/2/2016 04:57</td>\n",
       "      <td>Updated by 746</td>\n",
       "      <td>29/2/2016 04:57</td>\n",
       "      <td>Phone</td>\n",
       "      <td>Location 165</td>\n",
       "      <td>Category 40</td>\n",
       "      <td>Subcategory 215</td>\n",
       "      <td>Symptom 471</td>\n",
       "      <td>?</td>\n",
       "      <td>2 - Medium</td>\n",
       "      <td>2 - Medium</td>\n",
       "      <td>3 - Moderate</td>\n",
       "      <td>Group 70</td>\n",
       "      <td>Resolver 89</td>\n",
       "      <td>True</td>\n",
       "      <td>False</td>\n",
       "      <td>Do Not Notify</td>\n",
       "      <td>?</td>\n",
       "      <td>?</td>\n",
       "      <td>?</td>\n",
       "      <td>?</td>\n",
       "      <td>code 5</td>\n",
       "      <td>Resolved by 81</td>\n",
       "      <td>1/3/2016 09:52</td>\n",
       "      <td>6/3/2016 10:00</td>\n",
       "    </tr>\n",
       "  </tbody>\n",
       "</table>\n",
       "</div>"
      ],
      "text/plain": [
       "       number incident_state  active  reassignment_count  reopen_count  \\\n",
       "0  INC0000045            New    True                   0             0   \n",
       "1  INC0000045       Resolved    True                   0             0   \n",
       "2  INC0000045       Resolved    True                   0             0   \n",
       "3  INC0000045         Closed   False                   0             0   \n",
       "4  INC0000047            New    True                   0             0   \n",
       "\n",
       "   sys_mod_count  made_sla    caller_id       opened_by        opened_at  \\\n",
       "0              0      True  Caller 2403    Opened by  8  29/2/2016 01:16   \n",
       "1              2      True  Caller 2403    Opened by  8  29/2/2016 01:16   \n",
       "2              3      True  Caller 2403    Opened by  8  29/2/2016 01:16   \n",
       "3              4      True  Caller 2403    Opened by  8  29/2/2016 01:16   \n",
       "4              0      True  Caller 2403  Opened by  397  29/2/2016 04:40   \n",
       "\n",
       "   sys_created_by   sys_created_at  sys_updated_by   sys_updated_at  \\\n",
       "0    Created by 6  29/2/2016 01:23   Updated by 21  29/2/2016 01:23   \n",
       "1    Created by 6  29/2/2016 01:23  Updated by 642  29/2/2016 08:53   \n",
       "2    Created by 6  29/2/2016 01:23  Updated by 804  29/2/2016 11:29   \n",
       "3    Created by 6  29/2/2016 01:23  Updated by 908   5/3/2016 12:00   \n",
       "4  Created by 171  29/2/2016 04:57  Updated by 746  29/2/2016 04:57   \n",
       "\n",
       "  contact_type      location     category      subcategory    u_symptom  \\\n",
       "0        Phone  Location 143  Category 55  Subcategory 170   Symptom 72   \n",
       "1        Phone  Location 143  Category 55  Subcategory 170   Symptom 72   \n",
       "2        Phone  Location 143  Category 55  Subcategory 170   Symptom 72   \n",
       "3        Phone  Location 143  Category 55  Subcategory 170   Symptom 72   \n",
       "4        Phone  Location 165  Category 40  Subcategory 215  Symptom 471   \n",
       "\n",
       "  cmdb_ci      impact     urgency      priority assignment_group  assigned_to  \\\n",
       "0       ?  2 - Medium  2 - Medium  3 - Moderate         Group 56            ?   \n",
       "1       ?  2 - Medium  2 - Medium  3 - Moderate         Group 56            ?   \n",
       "2       ?  2 - Medium  2 - Medium  3 - Moderate         Group 56            ?   \n",
       "3       ?  2 - Medium  2 - Medium  3 - Moderate         Group 56            ?   \n",
       "4       ?  2 - Medium  2 - Medium  3 - Moderate         Group 70  Resolver 89   \n",
       "\n",
       "   knowledge  u_priority_confirmation         notify problem_id rfc vendor  \\\n",
       "0       True                    False  Do Not Notify          ?   ?      ?   \n",
       "1       True                    False  Do Not Notify          ?   ?      ?   \n",
       "2       True                    False  Do Not Notify          ?   ?      ?   \n",
       "3       True                    False  Do Not Notify          ?   ?      ?   \n",
       "4       True                    False  Do Not Notify          ?   ?      ?   \n",
       "\n",
       "  caused_by closed_code      resolved_by      resolved_at       closed_at  \n",
       "0         ?      code 5  Resolved by 149  29/2/2016 11:29  5/3/2016 12:00  \n",
       "1         ?      code 5  Resolved by 149  29/2/2016 11:29  5/3/2016 12:00  \n",
       "2         ?      code 5  Resolved by 149  29/2/2016 11:29  5/3/2016 12:00  \n",
       "3         ?      code 5  Resolved by 149  29/2/2016 11:29  5/3/2016 12:00  \n",
       "4         ?      code 5   Resolved by 81   1/3/2016 09:52  6/3/2016 10:00  "
      ]
     },
     "execution_count": 35,
     "metadata": {},
     "output_type": "execute_result"
    }
   ],
   "source": [
    "import numpy as np\n",
    "import pandas as pd\n",
    "import matplotlib.pyplot as plt\n",
    "%matplotlib inline\n",
    "import plotly.express as px\n",
    "pd.set_option('display.max_columns', None) \n",
    "\n",
    "df = pd.read_csv('./incident_event_log.csv').head(5000)\n",
    "print('size: ', df.shape)\n",
    "df.head()"
   ]
  },
  {
   "cell_type": "code",
   "execution_count": 36,
   "metadata": {},
   "outputs": [
    {
     "data": {
      "text/plain": [
       "5000"
      ]
     },
     "execution_count": 36,
     "metadata": {},
     "output_type": "execute_result"
    }
   ],
   "source": [
    "df.shape[0]"
   ]
  },
  {
   "cell_type": "code",
   "execution_count": 37,
   "metadata": {},
   "outputs": [
    {
     "data": {
      "text/plain": [
       "Index(['number', 'incident_state', 'active', 'reassignment_count',\n",
       "       'reopen_count', 'sys_mod_count', 'made_sla', 'caller_id', 'opened_by',\n",
       "       'opened_at', 'sys_created_by', 'sys_created_at', 'sys_updated_by',\n",
       "       'sys_updated_at', 'contact_type', 'location', 'category', 'subcategory',\n",
       "       'u_symptom', 'cmdb_ci', 'impact', 'urgency', 'priority',\n",
       "       'assignment_group', 'assigned_to', 'knowledge',\n",
       "       'u_priority_confirmation', 'notify', 'problem_id', 'rfc', 'vendor',\n",
       "       'caused_by', 'closed_code', 'resolved_by', 'resolved_at', 'closed_at'],\n",
       "      dtype='object')"
      ]
     },
     "execution_count": 37,
     "metadata": {},
     "output_type": "execute_result"
    }
   ],
   "source": [
    "df.columns"
   ]
  },
  {
   "cell_type": "code",
   "execution_count": 38,
   "metadata": {},
   "outputs": [
    {
     "data": {
      "text/html": [
       "<div>\n",
       "<style scoped>\n",
       "    .dataframe tbody tr th:only-of-type {\n",
       "        vertical-align: middle;\n",
       "    }\n",
       "\n",
       "    .dataframe tbody tr th {\n",
       "        vertical-align: top;\n",
       "    }\n",
       "\n",
       "    .dataframe thead th {\n",
       "        text-align: right;\n",
       "    }\n",
       "</style>\n",
       "<table border=\"1\" class=\"dataframe\">\n",
       "  <thead>\n",
       "    <tr style=\"text-align: right;\">\n",
       "      <th></th>\n",
       "      <th>number</th>\n",
       "      <th>reassignment_count</th>\n",
       "      <th>reopen_count</th>\n",
       "      <th>made_sla</th>\n",
       "      <th>opened_at</th>\n",
       "      <th>category</th>\n",
       "      <th>subcategory</th>\n",
       "      <th>impact</th>\n",
       "      <th>urgency</th>\n",
       "      <th>priority</th>\n",
       "      <th>assignment_group</th>\n",
       "      <th>knowledge</th>\n",
       "      <th>problem_id</th>\n",
       "      <th>rfc</th>\n",
       "      <th>vendor</th>\n",
       "      <th>caused_by</th>\n",
       "      <th>resolved_at</th>\n",
       "    </tr>\n",
       "  </thead>\n",
       "  <tbody>\n",
       "    <tr>\n",
       "      <th>3213</th>\n",
       "      <td>INC0000886</td>\n",
       "      <td>2</td>\n",
       "      <td>0</td>\n",
       "      <td>True</td>\n",
       "      <td>1/3/2016 18:04</td>\n",
       "      <td>Category 53</td>\n",
       "      <td>Subcategory 13</td>\n",
       "      <td>2 - Medium</td>\n",
       "      <td>2 - Medium</td>\n",
       "      <td>3 - Moderate</td>\n",
       "      <td>Group 27</td>\n",
       "      <td>True</td>\n",
       "      <td>?</td>\n",
       "      <td>?</td>\n",
       "      <td>?</td>\n",
       "      <td>?</td>\n",
       "      <td>7/3/2016 08:59</td>\n",
       "    </tr>\n",
       "    <tr>\n",
       "      <th>3526</th>\n",
       "      <td>INC0000939</td>\n",
       "      <td>0</td>\n",
       "      <td>0</td>\n",
       "      <td>True</td>\n",
       "      <td>1/3/2016 22:37</td>\n",
       "      <td>Category 45</td>\n",
       "      <td>Subcategory 29</td>\n",
       "      <td>3 - Low</td>\n",
       "      <td>3 - Low</td>\n",
       "      <td>4 - Low</td>\n",
       "      <td>Group 55</td>\n",
       "      <td>True</td>\n",
       "      <td>?</td>\n",
       "      <td>?</td>\n",
       "      <td>?</td>\n",
       "      <td>?</td>\n",
       "      <td>2/3/2016 15:02</td>\n",
       "    </tr>\n",
       "    <tr>\n",
       "      <th>4874</th>\n",
       "      <td>INC0001215</td>\n",
       "      <td>0</td>\n",
       "      <td>0</td>\n",
       "      <td>False</td>\n",
       "      <td>2/3/2016 11:37</td>\n",
       "      <td>Category 44</td>\n",
       "      <td>Subcategory 54</td>\n",
       "      <td>2 - Medium</td>\n",
       "      <td>2 - Medium</td>\n",
       "      <td>3 - Moderate</td>\n",
       "      <td>Group 12</td>\n",
       "      <td>True</td>\n",
       "      <td>?</td>\n",
       "      <td>?</td>\n",
       "      <td>?</td>\n",
       "      <td>?</td>\n",
       "      <td>9/3/2016 13:26</td>\n",
       "    </tr>\n",
       "    <tr>\n",
       "      <th>2069</th>\n",
       "      <td>INC0000618</td>\n",
       "      <td>0</td>\n",
       "      <td>0</td>\n",
       "      <td>True</td>\n",
       "      <td>1/3/2016 11:01</td>\n",
       "      <td>Category 45</td>\n",
       "      <td>Subcategory 208</td>\n",
       "      <td>2 - Medium</td>\n",
       "      <td>2 - Medium</td>\n",
       "      <td>3 - Moderate</td>\n",
       "      <td>Group 39</td>\n",
       "      <td>True</td>\n",
       "      <td>?</td>\n",
       "      <td>?</td>\n",
       "      <td>?</td>\n",
       "      <td>?</td>\n",
       "      <td>1/3/2016 14:21</td>\n",
       "    </tr>\n",
       "    <tr>\n",
       "      <th>3282</th>\n",
       "      <td>INC0000895</td>\n",
       "      <td>1</td>\n",
       "      <td>0</td>\n",
       "      <td>True</td>\n",
       "      <td>1/3/2016 19:02</td>\n",
       "      <td>Category 44</td>\n",
       "      <td>Subcategory 54</td>\n",
       "      <td>2 - Medium</td>\n",
       "      <td>2 - Medium</td>\n",
       "      <td>3 - Moderate</td>\n",
       "      <td>Group 55</td>\n",
       "      <td>True</td>\n",
       "      <td>?</td>\n",
       "      <td>?</td>\n",
       "      <td>?</td>\n",
       "      <td>?</td>\n",
       "      <td>7/3/2016 14:59</td>\n",
       "    </tr>\n",
       "    <tr>\n",
       "      <th>2855</th>\n",
       "      <td>INC0000810</td>\n",
       "      <td>1</td>\n",
       "      <td>0</td>\n",
       "      <td>True</td>\n",
       "      <td>1/3/2016 15:44</td>\n",
       "      <td>Category 53</td>\n",
       "      <td>Subcategory 127</td>\n",
       "      <td>2 - Medium</td>\n",
       "      <td>2 - Medium</td>\n",
       "      <td>3 - Moderate</td>\n",
       "      <td>Group 66</td>\n",
       "      <td>True</td>\n",
       "      <td>?</td>\n",
       "      <td>?</td>\n",
       "      <td>?</td>\n",
       "      <td>?</td>\n",
       "      <td>11/3/2016 16:50</td>\n",
       "    </tr>\n",
       "    <tr>\n",
       "      <th>3835</th>\n",
       "      <td>INC0001001</td>\n",
       "      <td>1</td>\n",
       "      <td>0</td>\n",
       "      <td>True</td>\n",
       "      <td>2/3/2016 08:30</td>\n",
       "      <td>Category 23</td>\n",
       "      <td>Subcategory 3</td>\n",
       "      <td>2 - Medium</td>\n",
       "      <td>2 - Medium</td>\n",
       "      <td>3 - Moderate</td>\n",
       "      <td>Group 25</td>\n",
       "      <td>True</td>\n",
       "      <td>?</td>\n",
       "      <td>?</td>\n",
       "      <td>?</td>\n",
       "      <td>?</td>\n",
       "      <td>7/3/2016 12:11</td>\n",
       "    </tr>\n",
       "    <tr>\n",
       "      <th>2267</th>\n",
       "      <td>INC0000669</td>\n",
       "      <td>5</td>\n",
       "      <td>0</td>\n",
       "      <td>True</td>\n",
       "      <td>1/3/2016 12:01</td>\n",
       "      <td>Category 20</td>\n",
       "      <td>Subcategory 125</td>\n",
       "      <td>2 - Medium</td>\n",
       "      <td>2 - Medium</td>\n",
       "      <td>3 - Moderate</td>\n",
       "      <td>Group 24</td>\n",
       "      <td>True</td>\n",
       "      <td>?</td>\n",
       "      <td>?</td>\n",
       "      <td>?</td>\n",
       "      <td>?</td>\n",
       "      <td>4/3/2016 08:02</td>\n",
       "    </tr>\n",
       "    <tr>\n",
       "      <th>2026</th>\n",
       "      <td>INC0000610</td>\n",
       "      <td>2</td>\n",
       "      <td>0</td>\n",
       "      <td>True</td>\n",
       "      <td>1/3/2016 10:46</td>\n",
       "      <td>Category 53</td>\n",
       "      <td>Subcategory 194</td>\n",
       "      <td>2 - Medium</td>\n",
       "      <td>2 - Medium</td>\n",
       "      <td>3 - Moderate</td>\n",
       "      <td>Group 66</td>\n",
       "      <td>True</td>\n",
       "      <td>?</td>\n",
       "      <td>?</td>\n",
       "      <td>?</td>\n",
       "      <td>?</td>\n",
       "      <td>2/3/2016 11:13</td>\n",
       "    </tr>\n",
       "    <tr>\n",
       "      <th>4765</th>\n",
       "      <td>INC0001182</td>\n",
       "      <td>1</td>\n",
       "      <td>0</td>\n",
       "      <td>True</td>\n",
       "      <td>2/3/2016 11:26</td>\n",
       "      <td>Category 23</td>\n",
       "      <td>Subcategory 3</td>\n",
       "      <td>2 - Medium</td>\n",
       "      <td>2 - Medium</td>\n",
       "      <td>3 - Moderate</td>\n",
       "      <td>Group 24</td>\n",
       "      <td>True</td>\n",
       "      <td>?</td>\n",
       "      <td>?</td>\n",
       "      <td>?</td>\n",
       "      <td>?</td>\n",
       "      <td>2/3/2016 14:58</td>\n",
       "    </tr>\n",
       "  </tbody>\n",
       "</table>\n",
       "</div>"
      ],
      "text/plain": [
       "          number  reassignment_count  reopen_count  made_sla       opened_at  \\\n",
       "3213  INC0000886                   2             0      True  1/3/2016 18:04   \n",
       "3526  INC0000939                   0             0      True  1/3/2016 22:37   \n",
       "4874  INC0001215                   0             0     False  2/3/2016 11:37   \n",
       "2069  INC0000618                   0             0      True  1/3/2016 11:01   \n",
       "3282  INC0000895                   1             0      True  1/3/2016 19:02   \n",
       "2855  INC0000810                   1             0      True  1/3/2016 15:44   \n",
       "3835  INC0001001                   1             0      True  2/3/2016 08:30   \n",
       "2267  INC0000669                   5             0      True  1/3/2016 12:01   \n",
       "2026  INC0000610                   2             0      True  1/3/2016 10:46   \n",
       "4765  INC0001182                   1             0      True  2/3/2016 11:26   \n",
       "\n",
       "         category      subcategory      impact     urgency      priority  \\\n",
       "3213  Category 53   Subcategory 13  2 - Medium  2 - Medium  3 - Moderate   \n",
       "3526  Category 45   Subcategory 29     3 - Low     3 - Low       4 - Low   \n",
       "4874  Category 44   Subcategory 54  2 - Medium  2 - Medium  3 - Moderate   \n",
       "2069  Category 45  Subcategory 208  2 - Medium  2 - Medium  3 - Moderate   \n",
       "3282  Category 44   Subcategory 54  2 - Medium  2 - Medium  3 - Moderate   \n",
       "2855  Category 53  Subcategory 127  2 - Medium  2 - Medium  3 - Moderate   \n",
       "3835  Category 23    Subcategory 3  2 - Medium  2 - Medium  3 - Moderate   \n",
       "2267  Category 20  Subcategory 125  2 - Medium  2 - Medium  3 - Moderate   \n",
       "2026  Category 53  Subcategory 194  2 - Medium  2 - Medium  3 - Moderate   \n",
       "4765  Category 23    Subcategory 3  2 - Medium  2 - Medium  3 - Moderate   \n",
       "\n",
       "     assignment_group  knowledge problem_id rfc vendor caused_by  \\\n",
       "3213         Group 27       True          ?   ?      ?         ?   \n",
       "3526         Group 55       True          ?   ?      ?         ?   \n",
       "4874         Group 12       True          ?   ?      ?         ?   \n",
       "2069         Group 39       True          ?   ?      ?         ?   \n",
       "3282         Group 55       True          ?   ?      ?         ?   \n",
       "2855         Group 66       True          ?   ?      ?         ?   \n",
       "3835         Group 25       True          ?   ?      ?         ?   \n",
       "2267         Group 24       True          ?   ?      ?         ?   \n",
       "2026         Group 66       True          ?   ?      ?         ?   \n",
       "4765         Group 24       True          ?   ?      ?         ?   \n",
       "\n",
       "          resolved_at  \n",
       "3213   7/3/2016 08:59  \n",
       "3526   2/3/2016 15:02  \n",
       "4874   9/3/2016 13:26  \n",
       "2069   1/3/2016 14:21  \n",
       "3282   7/3/2016 14:59  \n",
       "2855  11/3/2016 16:50  \n",
       "3835   7/3/2016 12:11  \n",
       "2267   4/3/2016 08:02  \n",
       "2026   2/3/2016 11:13  \n",
       "4765   2/3/2016 14:58  "
      ]
     },
     "execution_count": 38,
     "metadata": {},
     "output_type": "execute_result"
    }
   ],
   "source": [
    "df[['number','reassignment_count',\n",
    "       'reopen_count','made_sla','opened_at','category',\n",
    "       'subcategory','impact', 'urgency', 'priority', 'assignment_group',\n",
    "        'knowledge','problem_id', 'rfc', 'vendor',\n",
    "       'caused_by', 'resolved_at']].sample(10)"
   ]
  },
  {
   "cell_type": "markdown",
   "metadata": {},
   "source": [
    "### check missing values"
   ]
  },
  {
   "cell_type": "code",
   "execution_count": 39,
   "metadata": {},
   "outputs": [],
   "source": [
    "# df_closed.isnull().sum()"
   ]
  },
  {
   "cell_type": "markdown",
   "metadata": {},
   "source": [
    "no null values"
   ]
  },
  {
   "cell_type": "code",
   "execution_count": 40,
   "metadata": {},
   "outputs": [
    {
     "data": {
      "text/plain": [
       "New                   1450\n",
       "Active                1241\n",
       "Resolved               766\n",
       "Awaiting User Info     746\n",
       "Closed                 738\n",
       "Awaiting Problem        59\n",
       "Name: incident_state, dtype: int64"
      ]
     },
     "execution_count": 40,
     "metadata": {},
     "output_type": "execute_result"
    }
   ],
   "source": [
    "df[\"incident_state\"].value_counts()"
   ]
  },
  {
   "cell_type": "code",
   "execution_count": 41,
   "metadata": {},
   "outputs": [
    {
     "data": {
      "application/vnd.plotly.v1+json": {
       "config": {
        "plotlyServerURL": "https://plot.ly"
       },
       "data": [
        {
         "alignmentgroup": "True",
         "hovertemplate": "Count=%{x}<br>Incident State=%{y}<extra></extra>",
         "legendgroup": "",
         "marker": {
          "color": "#636efa",
          "pattern": {
           "shape": ""
          }
         },
         "name": "",
         "offsetgroup": "",
         "orientation": "h",
         "showlegend": false,
         "textposition": "auto",
         "type": "bar",
         "x": [
          1450,
          1241,
          766,
          746,
          738,
          59
         ],
         "xaxis": "x",
         "y": [
          "New",
          "Active",
          "Resolved",
          "Awaiting User Info",
          "Closed",
          "Awaiting Problem"
         ],
         "yaxis": "y"
        }
       ],
       "layout": {
        "barmode": "relative",
        "legend": {
         "tracegroupgap": 0
        },
        "template": {
         "data": {
          "bar": [
           {
            "error_x": {
             "color": "#2a3f5f"
            },
            "error_y": {
             "color": "#2a3f5f"
            },
            "marker": {
             "line": {
              "color": "#E5ECF6",
              "width": 0.5
             },
             "pattern": {
              "fillmode": "overlay",
              "size": 10,
              "solidity": 0.2
             }
            },
            "type": "bar"
           }
          ],
          "barpolar": [
           {
            "marker": {
             "line": {
              "color": "#E5ECF6",
              "width": 0.5
             },
             "pattern": {
              "fillmode": "overlay",
              "size": 10,
              "solidity": 0.2
             }
            },
            "type": "barpolar"
           }
          ],
          "carpet": [
           {
            "aaxis": {
             "endlinecolor": "#2a3f5f",
             "gridcolor": "white",
             "linecolor": "white",
             "minorgridcolor": "white",
             "startlinecolor": "#2a3f5f"
            },
            "baxis": {
             "endlinecolor": "#2a3f5f",
             "gridcolor": "white",
             "linecolor": "white",
             "minorgridcolor": "white",
             "startlinecolor": "#2a3f5f"
            },
            "type": "carpet"
           }
          ],
          "choropleth": [
           {
            "colorbar": {
             "outlinewidth": 0,
             "ticks": ""
            },
            "type": "choropleth"
           }
          ],
          "contour": [
           {
            "colorbar": {
             "outlinewidth": 0,
             "ticks": ""
            },
            "colorscale": [
             [
              0,
              "#0d0887"
             ],
             [
              0.1111111111111111,
              "#46039f"
             ],
             [
              0.2222222222222222,
              "#7201a8"
             ],
             [
              0.3333333333333333,
              "#9c179e"
             ],
             [
              0.4444444444444444,
              "#bd3786"
             ],
             [
              0.5555555555555556,
              "#d8576b"
             ],
             [
              0.6666666666666666,
              "#ed7953"
             ],
             [
              0.7777777777777778,
              "#fb9f3a"
             ],
             [
              0.8888888888888888,
              "#fdca26"
             ],
             [
              1,
              "#f0f921"
             ]
            ],
            "type": "contour"
           }
          ],
          "contourcarpet": [
           {
            "colorbar": {
             "outlinewidth": 0,
             "ticks": ""
            },
            "type": "contourcarpet"
           }
          ],
          "heatmap": [
           {
            "colorbar": {
             "outlinewidth": 0,
             "ticks": ""
            },
            "colorscale": [
             [
              0,
              "#0d0887"
             ],
             [
              0.1111111111111111,
              "#46039f"
             ],
             [
              0.2222222222222222,
              "#7201a8"
             ],
             [
              0.3333333333333333,
              "#9c179e"
             ],
             [
              0.4444444444444444,
              "#bd3786"
             ],
             [
              0.5555555555555556,
              "#d8576b"
             ],
             [
              0.6666666666666666,
              "#ed7953"
             ],
             [
              0.7777777777777778,
              "#fb9f3a"
             ],
             [
              0.8888888888888888,
              "#fdca26"
             ],
             [
              1,
              "#f0f921"
             ]
            ],
            "type": "heatmap"
           }
          ],
          "heatmapgl": [
           {
            "colorbar": {
             "outlinewidth": 0,
             "ticks": ""
            },
            "colorscale": [
             [
              0,
              "#0d0887"
             ],
             [
              0.1111111111111111,
              "#46039f"
             ],
             [
              0.2222222222222222,
              "#7201a8"
             ],
             [
              0.3333333333333333,
              "#9c179e"
             ],
             [
              0.4444444444444444,
              "#bd3786"
             ],
             [
              0.5555555555555556,
              "#d8576b"
             ],
             [
              0.6666666666666666,
              "#ed7953"
             ],
             [
              0.7777777777777778,
              "#fb9f3a"
             ],
             [
              0.8888888888888888,
              "#fdca26"
             ],
             [
              1,
              "#f0f921"
             ]
            ],
            "type": "heatmapgl"
           }
          ],
          "histogram": [
           {
            "marker": {
             "pattern": {
              "fillmode": "overlay",
              "size": 10,
              "solidity": 0.2
             }
            },
            "type": "histogram"
           }
          ],
          "histogram2d": [
           {
            "colorbar": {
             "outlinewidth": 0,
             "ticks": ""
            },
            "colorscale": [
             [
              0,
              "#0d0887"
             ],
             [
              0.1111111111111111,
              "#46039f"
             ],
             [
              0.2222222222222222,
              "#7201a8"
             ],
             [
              0.3333333333333333,
              "#9c179e"
             ],
             [
              0.4444444444444444,
              "#bd3786"
             ],
             [
              0.5555555555555556,
              "#d8576b"
             ],
             [
              0.6666666666666666,
              "#ed7953"
             ],
             [
              0.7777777777777778,
              "#fb9f3a"
             ],
             [
              0.8888888888888888,
              "#fdca26"
             ],
             [
              1,
              "#f0f921"
             ]
            ],
            "type": "histogram2d"
           }
          ],
          "histogram2dcontour": [
           {
            "colorbar": {
             "outlinewidth": 0,
             "ticks": ""
            },
            "colorscale": [
             [
              0,
              "#0d0887"
             ],
             [
              0.1111111111111111,
              "#46039f"
             ],
             [
              0.2222222222222222,
              "#7201a8"
             ],
             [
              0.3333333333333333,
              "#9c179e"
             ],
             [
              0.4444444444444444,
              "#bd3786"
             ],
             [
              0.5555555555555556,
              "#d8576b"
             ],
             [
              0.6666666666666666,
              "#ed7953"
             ],
             [
              0.7777777777777778,
              "#fb9f3a"
             ],
             [
              0.8888888888888888,
              "#fdca26"
             ],
             [
              1,
              "#f0f921"
             ]
            ],
            "type": "histogram2dcontour"
           }
          ],
          "mesh3d": [
           {
            "colorbar": {
             "outlinewidth": 0,
             "ticks": ""
            },
            "type": "mesh3d"
           }
          ],
          "parcoords": [
           {
            "line": {
             "colorbar": {
              "outlinewidth": 0,
              "ticks": ""
             }
            },
            "type": "parcoords"
           }
          ],
          "pie": [
           {
            "automargin": true,
            "type": "pie"
           }
          ],
          "scatter": [
           {
            "fillpattern": {
             "fillmode": "overlay",
             "size": 10,
             "solidity": 0.2
            },
            "type": "scatter"
           }
          ],
          "scatter3d": [
           {
            "line": {
             "colorbar": {
              "outlinewidth": 0,
              "ticks": ""
             }
            },
            "marker": {
             "colorbar": {
              "outlinewidth": 0,
              "ticks": ""
             }
            },
            "type": "scatter3d"
           }
          ],
          "scattercarpet": [
           {
            "marker": {
             "colorbar": {
              "outlinewidth": 0,
              "ticks": ""
             }
            },
            "type": "scattercarpet"
           }
          ],
          "scattergeo": [
           {
            "marker": {
             "colorbar": {
              "outlinewidth": 0,
              "ticks": ""
             }
            },
            "type": "scattergeo"
           }
          ],
          "scattergl": [
           {
            "marker": {
             "colorbar": {
              "outlinewidth": 0,
              "ticks": ""
             }
            },
            "type": "scattergl"
           }
          ],
          "scattermapbox": [
           {
            "marker": {
             "colorbar": {
              "outlinewidth": 0,
              "ticks": ""
             }
            },
            "type": "scattermapbox"
           }
          ],
          "scatterpolar": [
           {
            "marker": {
             "colorbar": {
              "outlinewidth": 0,
              "ticks": ""
             }
            },
            "type": "scatterpolar"
           }
          ],
          "scatterpolargl": [
           {
            "marker": {
             "colorbar": {
              "outlinewidth": 0,
              "ticks": ""
             }
            },
            "type": "scatterpolargl"
           }
          ],
          "scatterternary": [
           {
            "marker": {
             "colorbar": {
              "outlinewidth": 0,
              "ticks": ""
             }
            },
            "type": "scatterternary"
           }
          ],
          "surface": [
           {
            "colorbar": {
             "outlinewidth": 0,
             "ticks": ""
            },
            "colorscale": [
             [
              0,
              "#0d0887"
             ],
             [
              0.1111111111111111,
              "#46039f"
             ],
             [
              0.2222222222222222,
              "#7201a8"
             ],
             [
              0.3333333333333333,
              "#9c179e"
             ],
             [
              0.4444444444444444,
              "#bd3786"
             ],
             [
              0.5555555555555556,
              "#d8576b"
             ],
             [
              0.6666666666666666,
              "#ed7953"
             ],
             [
              0.7777777777777778,
              "#fb9f3a"
             ],
             [
              0.8888888888888888,
              "#fdca26"
             ],
             [
              1,
              "#f0f921"
             ]
            ],
            "type": "surface"
           }
          ],
          "table": [
           {
            "cells": {
             "fill": {
              "color": "#EBF0F8"
             },
             "line": {
              "color": "white"
             }
            },
            "header": {
             "fill": {
              "color": "#C8D4E3"
             },
             "line": {
              "color": "white"
             }
            },
            "type": "table"
           }
          ]
         },
         "layout": {
          "annotationdefaults": {
           "arrowcolor": "#2a3f5f",
           "arrowhead": 0,
           "arrowwidth": 1
          },
          "autotypenumbers": "strict",
          "coloraxis": {
           "colorbar": {
            "outlinewidth": 0,
            "ticks": ""
           }
          },
          "colorscale": {
           "diverging": [
            [
             0,
             "#8e0152"
            ],
            [
             0.1,
             "#c51b7d"
            ],
            [
             0.2,
             "#de77ae"
            ],
            [
             0.3,
             "#f1b6da"
            ],
            [
             0.4,
             "#fde0ef"
            ],
            [
             0.5,
             "#f7f7f7"
            ],
            [
             0.6,
             "#e6f5d0"
            ],
            [
             0.7,
             "#b8e186"
            ],
            [
             0.8,
             "#7fbc41"
            ],
            [
             0.9,
             "#4d9221"
            ],
            [
             1,
             "#276419"
            ]
           ],
           "sequential": [
            [
             0,
             "#0d0887"
            ],
            [
             0.1111111111111111,
             "#46039f"
            ],
            [
             0.2222222222222222,
             "#7201a8"
            ],
            [
             0.3333333333333333,
             "#9c179e"
            ],
            [
             0.4444444444444444,
             "#bd3786"
            ],
            [
             0.5555555555555556,
             "#d8576b"
            ],
            [
             0.6666666666666666,
             "#ed7953"
            ],
            [
             0.7777777777777778,
             "#fb9f3a"
            ],
            [
             0.8888888888888888,
             "#fdca26"
            ],
            [
             1,
             "#f0f921"
            ]
           ],
           "sequentialminus": [
            [
             0,
             "#0d0887"
            ],
            [
             0.1111111111111111,
             "#46039f"
            ],
            [
             0.2222222222222222,
             "#7201a8"
            ],
            [
             0.3333333333333333,
             "#9c179e"
            ],
            [
             0.4444444444444444,
             "#bd3786"
            ],
            [
             0.5555555555555556,
             "#d8576b"
            ],
            [
             0.6666666666666666,
             "#ed7953"
            ],
            [
             0.7777777777777778,
             "#fb9f3a"
            ],
            [
             0.8888888888888888,
             "#fdca26"
            ],
            [
             1,
             "#f0f921"
            ]
           ]
          },
          "colorway": [
           "#636efa",
           "#EF553B",
           "#00cc96",
           "#ab63fa",
           "#FFA15A",
           "#19d3f3",
           "#FF6692",
           "#B6E880",
           "#FF97FF",
           "#FECB52"
          ],
          "font": {
           "color": "#2a3f5f"
          },
          "geo": {
           "bgcolor": "white",
           "lakecolor": "white",
           "landcolor": "#E5ECF6",
           "showlakes": true,
           "showland": true,
           "subunitcolor": "white"
          },
          "hoverlabel": {
           "align": "left"
          },
          "hovermode": "closest",
          "mapbox": {
           "style": "light"
          },
          "paper_bgcolor": "white",
          "plot_bgcolor": "#E5ECF6",
          "polar": {
           "angularaxis": {
            "gridcolor": "white",
            "linecolor": "white",
            "ticks": ""
           },
           "bgcolor": "#E5ECF6",
           "radialaxis": {
            "gridcolor": "white",
            "linecolor": "white",
            "ticks": ""
           }
          },
          "scene": {
           "xaxis": {
            "backgroundcolor": "#E5ECF6",
            "gridcolor": "white",
            "gridwidth": 2,
            "linecolor": "white",
            "showbackground": true,
            "ticks": "",
            "zerolinecolor": "white"
           },
           "yaxis": {
            "backgroundcolor": "#E5ECF6",
            "gridcolor": "white",
            "gridwidth": 2,
            "linecolor": "white",
            "showbackground": true,
            "ticks": "",
            "zerolinecolor": "white"
           },
           "zaxis": {
            "backgroundcolor": "#E5ECF6",
            "gridcolor": "white",
            "gridwidth": 2,
            "linecolor": "white",
            "showbackground": true,
            "ticks": "",
            "zerolinecolor": "white"
           }
          },
          "shapedefaults": {
           "line": {
            "color": "#2a3f5f"
           }
          },
          "ternary": {
           "aaxis": {
            "gridcolor": "white",
            "linecolor": "white",
            "ticks": ""
           },
           "baxis": {
            "gridcolor": "white",
            "linecolor": "white",
            "ticks": ""
           },
           "bgcolor": "#E5ECF6",
           "caxis": {
            "gridcolor": "white",
            "linecolor": "white",
            "ticks": ""
           }
          },
          "title": {
           "x": 0.05
          },
          "xaxis": {
           "automargin": true,
           "gridcolor": "white",
           "linecolor": "white",
           "ticks": "",
           "title": {
            "standoff": 15
           },
           "zerolinecolor": "white",
           "zerolinewidth": 2
          },
          "yaxis": {
           "automargin": true,
           "gridcolor": "white",
           "linecolor": "white",
           "ticks": "",
           "title": {
            "standoff": 15
           },
           "zerolinecolor": "white",
           "zerolinewidth": 2
          }
         }
        },
        "title": {
         "text": "Incident State Counts"
        },
        "xaxis": {
         "anchor": "y",
         "domain": [
          0,
          1
         ],
         "title": {
          "text": "Count"
         }
        },
        "yaxis": {
         "anchor": "x",
         "domain": [
          0,
          1
         ],
         "title": {
          "text": "Incident State"
         }
        }
       }
      }
     },
     "metadata": {},
     "output_type": "display_data"
    }
   ],
   "source": [
    "# Create a horizontal bar plot\n",
    "fig = px.bar(\n",
    "    df[\"incident_state\"].value_counts().reset_index(),\n",
    "    x='incident_state',\n",
    "    y='index',\n",
    "    orientation='h',\n",
    "    title='Incident State Counts',\n",
    "    labels={'index': 'Incident State', 'incident_state': 'Count'}\n",
    ")\n",
    "\n",
    "# Show the plot\n",
    "fig.show()"
   ]
  },
  {
   "cell_type": "code",
   "execution_count": 42,
   "metadata": {},
   "outputs": [
    {
     "data": {
      "text/plain": [
       "True     4262\n",
       "False     738\n",
       "Name: active, dtype: int64"
      ]
     },
     "execution_count": 42,
     "metadata": {},
     "output_type": "execute_result"
    }
   ],
   "source": [
    "df[\"active\"].value_counts()"
   ]
  },
  {
   "cell_type": "markdown",
   "metadata": {},
   "source": [
    "### only select not active"
   ]
  },
  {
   "cell_type": "code",
   "execution_count": 43,
   "metadata": {},
   "outputs": [],
   "source": [
    "non_active = df[df['incident_state'] == 'Closed']"
   ]
  },
  {
   "cell_type": "code",
   "execution_count": 44,
   "metadata": {},
   "outputs": [
    {
     "data": {
      "application/vnd.plotly.v1+json": {
       "config": {
        "plotlyServerURL": "https://plot.ly"
       },
       "data": [
        {
         "alignmentgroup": "True",
         "hovertemplate": "Count=%{x}<br>Incident State=%{y}<extra></extra>",
         "legendgroup": "",
         "marker": {
          "color": "#636efa",
          "pattern": {
           "shape": ""
          }
         },
         "name": "",
         "offsetgroup": "",
         "orientation": "h",
         "showlegend": false,
         "textposition": "auto",
         "type": "bar",
         "x": [
          738
         ],
         "xaxis": "x",
         "y": [
          "Closed"
         ],
         "yaxis": "y"
        }
       ],
       "layout": {
        "barmode": "relative",
        "legend": {
         "tracegroupgap": 0
        },
        "template": {
         "data": {
          "bar": [
           {
            "error_x": {
             "color": "#2a3f5f"
            },
            "error_y": {
             "color": "#2a3f5f"
            },
            "marker": {
             "line": {
              "color": "#E5ECF6",
              "width": 0.5
             },
             "pattern": {
              "fillmode": "overlay",
              "size": 10,
              "solidity": 0.2
             }
            },
            "type": "bar"
           }
          ],
          "barpolar": [
           {
            "marker": {
             "line": {
              "color": "#E5ECF6",
              "width": 0.5
             },
             "pattern": {
              "fillmode": "overlay",
              "size": 10,
              "solidity": 0.2
             }
            },
            "type": "barpolar"
           }
          ],
          "carpet": [
           {
            "aaxis": {
             "endlinecolor": "#2a3f5f",
             "gridcolor": "white",
             "linecolor": "white",
             "minorgridcolor": "white",
             "startlinecolor": "#2a3f5f"
            },
            "baxis": {
             "endlinecolor": "#2a3f5f",
             "gridcolor": "white",
             "linecolor": "white",
             "minorgridcolor": "white",
             "startlinecolor": "#2a3f5f"
            },
            "type": "carpet"
           }
          ],
          "choropleth": [
           {
            "colorbar": {
             "outlinewidth": 0,
             "ticks": ""
            },
            "type": "choropleth"
           }
          ],
          "contour": [
           {
            "colorbar": {
             "outlinewidth": 0,
             "ticks": ""
            },
            "colorscale": [
             [
              0,
              "#0d0887"
             ],
             [
              0.1111111111111111,
              "#46039f"
             ],
             [
              0.2222222222222222,
              "#7201a8"
             ],
             [
              0.3333333333333333,
              "#9c179e"
             ],
             [
              0.4444444444444444,
              "#bd3786"
             ],
             [
              0.5555555555555556,
              "#d8576b"
             ],
             [
              0.6666666666666666,
              "#ed7953"
             ],
             [
              0.7777777777777778,
              "#fb9f3a"
             ],
             [
              0.8888888888888888,
              "#fdca26"
             ],
             [
              1,
              "#f0f921"
             ]
            ],
            "type": "contour"
           }
          ],
          "contourcarpet": [
           {
            "colorbar": {
             "outlinewidth": 0,
             "ticks": ""
            },
            "type": "contourcarpet"
           }
          ],
          "heatmap": [
           {
            "colorbar": {
             "outlinewidth": 0,
             "ticks": ""
            },
            "colorscale": [
             [
              0,
              "#0d0887"
             ],
             [
              0.1111111111111111,
              "#46039f"
             ],
             [
              0.2222222222222222,
              "#7201a8"
             ],
             [
              0.3333333333333333,
              "#9c179e"
             ],
             [
              0.4444444444444444,
              "#bd3786"
             ],
             [
              0.5555555555555556,
              "#d8576b"
             ],
             [
              0.6666666666666666,
              "#ed7953"
             ],
             [
              0.7777777777777778,
              "#fb9f3a"
             ],
             [
              0.8888888888888888,
              "#fdca26"
             ],
             [
              1,
              "#f0f921"
             ]
            ],
            "type": "heatmap"
           }
          ],
          "heatmapgl": [
           {
            "colorbar": {
             "outlinewidth": 0,
             "ticks": ""
            },
            "colorscale": [
             [
              0,
              "#0d0887"
             ],
             [
              0.1111111111111111,
              "#46039f"
             ],
             [
              0.2222222222222222,
              "#7201a8"
             ],
             [
              0.3333333333333333,
              "#9c179e"
             ],
             [
              0.4444444444444444,
              "#bd3786"
             ],
             [
              0.5555555555555556,
              "#d8576b"
             ],
             [
              0.6666666666666666,
              "#ed7953"
             ],
             [
              0.7777777777777778,
              "#fb9f3a"
             ],
             [
              0.8888888888888888,
              "#fdca26"
             ],
             [
              1,
              "#f0f921"
             ]
            ],
            "type": "heatmapgl"
           }
          ],
          "histogram": [
           {
            "marker": {
             "pattern": {
              "fillmode": "overlay",
              "size": 10,
              "solidity": 0.2
             }
            },
            "type": "histogram"
           }
          ],
          "histogram2d": [
           {
            "colorbar": {
             "outlinewidth": 0,
             "ticks": ""
            },
            "colorscale": [
             [
              0,
              "#0d0887"
             ],
             [
              0.1111111111111111,
              "#46039f"
             ],
             [
              0.2222222222222222,
              "#7201a8"
             ],
             [
              0.3333333333333333,
              "#9c179e"
             ],
             [
              0.4444444444444444,
              "#bd3786"
             ],
             [
              0.5555555555555556,
              "#d8576b"
             ],
             [
              0.6666666666666666,
              "#ed7953"
             ],
             [
              0.7777777777777778,
              "#fb9f3a"
             ],
             [
              0.8888888888888888,
              "#fdca26"
             ],
             [
              1,
              "#f0f921"
             ]
            ],
            "type": "histogram2d"
           }
          ],
          "histogram2dcontour": [
           {
            "colorbar": {
             "outlinewidth": 0,
             "ticks": ""
            },
            "colorscale": [
             [
              0,
              "#0d0887"
             ],
             [
              0.1111111111111111,
              "#46039f"
             ],
             [
              0.2222222222222222,
              "#7201a8"
             ],
             [
              0.3333333333333333,
              "#9c179e"
             ],
             [
              0.4444444444444444,
              "#bd3786"
             ],
             [
              0.5555555555555556,
              "#d8576b"
             ],
             [
              0.6666666666666666,
              "#ed7953"
             ],
             [
              0.7777777777777778,
              "#fb9f3a"
             ],
             [
              0.8888888888888888,
              "#fdca26"
             ],
             [
              1,
              "#f0f921"
             ]
            ],
            "type": "histogram2dcontour"
           }
          ],
          "mesh3d": [
           {
            "colorbar": {
             "outlinewidth": 0,
             "ticks": ""
            },
            "type": "mesh3d"
           }
          ],
          "parcoords": [
           {
            "line": {
             "colorbar": {
              "outlinewidth": 0,
              "ticks": ""
             }
            },
            "type": "parcoords"
           }
          ],
          "pie": [
           {
            "automargin": true,
            "type": "pie"
           }
          ],
          "scatter": [
           {
            "fillpattern": {
             "fillmode": "overlay",
             "size": 10,
             "solidity": 0.2
            },
            "type": "scatter"
           }
          ],
          "scatter3d": [
           {
            "line": {
             "colorbar": {
              "outlinewidth": 0,
              "ticks": ""
             }
            },
            "marker": {
             "colorbar": {
              "outlinewidth": 0,
              "ticks": ""
             }
            },
            "type": "scatter3d"
           }
          ],
          "scattercarpet": [
           {
            "marker": {
             "colorbar": {
              "outlinewidth": 0,
              "ticks": ""
             }
            },
            "type": "scattercarpet"
           }
          ],
          "scattergeo": [
           {
            "marker": {
             "colorbar": {
              "outlinewidth": 0,
              "ticks": ""
             }
            },
            "type": "scattergeo"
           }
          ],
          "scattergl": [
           {
            "marker": {
             "colorbar": {
              "outlinewidth": 0,
              "ticks": ""
             }
            },
            "type": "scattergl"
           }
          ],
          "scattermapbox": [
           {
            "marker": {
             "colorbar": {
              "outlinewidth": 0,
              "ticks": ""
             }
            },
            "type": "scattermapbox"
           }
          ],
          "scatterpolar": [
           {
            "marker": {
             "colorbar": {
              "outlinewidth": 0,
              "ticks": ""
             }
            },
            "type": "scatterpolar"
           }
          ],
          "scatterpolargl": [
           {
            "marker": {
             "colorbar": {
              "outlinewidth": 0,
              "ticks": ""
             }
            },
            "type": "scatterpolargl"
           }
          ],
          "scatterternary": [
           {
            "marker": {
             "colorbar": {
              "outlinewidth": 0,
              "ticks": ""
             }
            },
            "type": "scatterternary"
           }
          ],
          "surface": [
           {
            "colorbar": {
             "outlinewidth": 0,
             "ticks": ""
            },
            "colorscale": [
             [
              0,
              "#0d0887"
             ],
             [
              0.1111111111111111,
              "#46039f"
             ],
             [
              0.2222222222222222,
              "#7201a8"
             ],
             [
              0.3333333333333333,
              "#9c179e"
             ],
             [
              0.4444444444444444,
              "#bd3786"
             ],
             [
              0.5555555555555556,
              "#d8576b"
             ],
             [
              0.6666666666666666,
              "#ed7953"
             ],
             [
              0.7777777777777778,
              "#fb9f3a"
             ],
             [
              0.8888888888888888,
              "#fdca26"
             ],
             [
              1,
              "#f0f921"
             ]
            ],
            "type": "surface"
           }
          ],
          "table": [
           {
            "cells": {
             "fill": {
              "color": "#EBF0F8"
             },
             "line": {
              "color": "white"
             }
            },
            "header": {
             "fill": {
              "color": "#C8D4E3"
             },
             "line": {
              "color": "white"
             }
            },
            "type": "table"
           }
          ]
         },
         "layout": {
          "annotationdefaults": {
           "arrowcolor": "#2a3f5f",
           "arrowhead": 0,
           "arrowwidth": 1
          },
          "autotypenumbers": "strict",
          "coloraxis": {
           "colorbar": {
            "outlinewidth": 0,
            "ticks": ""
           }
          },
          "colorscale": {
           "diverging": [
            [
             0,
             "#8e0152"
            ],
            [
             0.1,
             "#c51b7d"
            ],
            [
             0.2,
             "#de77ae"
            ],
            [
             0.3,
             "#f1b6da"
            ],
            [
             0.4,
             "#fde0ef"
            ],
            [
             0.5,
             "#f7f7f7"
            ],
            [
             0.6,
             "#e6f5d0"
            ],
            [
             0.7,
             "#b8e186"
            ],
            [
             0.8,
             "#7fbc41"
            ],
            [
             0.9,
             "#4d9221"
            ],
            [
             1,
             "#276419"
            ]
           ],
           "sequential": [
            [
             0,
             "#0d0887"
            ],
            [
             0.1111111111111111,
             "#46039f"
            ],
            [
             0.2222222222222222,
             "#7201a8"
            ],
            [
             0.3333333333333333,
             "#9c179e"
            ],
            [
             0.4444444444444444,
             "#bd3786"
            ],
            [
             0.5555555555555556,
             "#d8576b"
            ],
            [
             0.6666666666666666,
             "#ed7953"
            ],
            [
             0.7777777777777778,
             "#fb9f3a"
            ],
            [
             0.8888888888888888,
             "#fdca26"
            ],
            [
             1,
             "#f0f921"
            ]
           ],
           "sequentialminus": [
            [
             0,
             "#0d0887"
            ],
            [
             0.1111111111111111,
             "#46039f"
            ],
            [
             0.2222222222222222,
             "#7201a8"
            ],
            [
             0.3333333333333333,
             "#9c179e"
            ],
            [
             0.4444444444444444,
             "#bd3786"
            ],
            [
             0.5555555555555556,
             "#d8576b"
            ],
            [
             0.6666666666666666,
             "#ed7953"
            ],
            [
             0.7777777777777778,
             "#fb9f3a"
            ],
            [
             0.8888888888888888,
             "#fdca26"
            ],
            [
             1,
             "#f0f921"
            ]
           ]
          },
          "colorway": [
           "#636efa",
           "#EF553B",
           "#00cc96",
           "#ab63fa",
           "#FFA15A",
           "#19d3f3",
           "#FF6692",
           "#B6E880",
           "#FF97FF",
           "#FECB52"
          ],
          "font": {
           "color": "#2a3f5f"
          },
          "geo": {
           "bgcolor": "white",
           "lakecolor": "white",
           "landcolor": "#E5ECF6",
           "showlakes": true,
           "showland": true,
           "subunitcolor": "white"
          },
          "hoverlabel": {
           "align": "left"
          },
          "hovermode": "closest",
          "mapbox": {
           "style": "light"
          },
          "paper_bgcolor": "white",
          "plot_bgcolor": "#E5ECF6",
          "polar": {
           "angularaxis": {
            "gridcolor": "white",
            "linecolor": "white",
            "ticks": ""
           },
           "bgcolor": "#E5ECF6",
           "radialaxis": {
            "gridcolor": "white",
            "linecolor": "white",
            "ticks": ""
           }
          },
          "scene": {
           "xaxis": {
            "backgroundcolor": "#E5ECF6",
            "gridcolor": "white",
            "gridwidth": 2,
            "linecolor": "white",
            "showbackground": true,
            "ticks": "",
            "zerolinecolor": "white"
           },
           "yaxis": {
            "backgroundcolor": "#E5ECF6",
            "gridcolor": "white",
            "gridwidth": 2,
            "linecolor": "white",
            "showbackground": true,
            "ticks": "",
            "zerolinecolor": "white"
           },
           "zaxis": {
            "backgroundcolor": "#E5ECF6",
            "gridcolor": "white",
            "gridwidth": 2,
            "linecolor": "white",
            "showbackground": true,
            "ticks": "",
            "zerolinecolor": "white"
           }
          },
          "shapedefaults": {
           "line": {
            "color": "#2a3f5f"
           }
          },
          "ternary": {
           "aaxis": {
            "gridcolor": "white",
            "linecolor": "white",
            "ticks": ""
           },
           "baxis": {
            "gridcolor": "white",
            "linecolor": "white",
            "ticks": ""
           },
           "bgcolor": "#E5ECF6",
           "caxis": {
            "gridcolor": "white",
            "linecolor": "white",
            "ticks": ""
           }
          },
          "title": {
           "x": 0.05
          },
          "xaxis": {
           "automargin": true,
           "gridcolor": "white",
           "linecolor": "white",
           "ticks": "",
           "title": {
            "standoff": 15
           },
           "zerolinecolor": "white",
           "zerolinewidth": 2
          },
          "yaxis": {
           "automargin": true,
           "gridcolor": "white",
           "linecolor": "white",
           "ticks": "",
           "title": {
            "standoff": 15
           },
           "zerolinecolor": "white",
           "zerolinewidth": 2
          }
         }
        },
        "title": {
         "text": "Incident State Counts"
        },
        "xaxis": {
         "anchor": "y",
         "domain": [
          0,
          1
         ],
         "title": {
          "text": "Count"
         }
        },
        "yaxis": {
         "anchor": "x",
         "domain": [
          0,
          1
         ],
         "title": {
          "text": "Incident State"
         }
        }
       }
      }
     },
     "metadata": {},
     "output_type": "display_data"
    }
   ],
   "source": [
    "fig = px.bar(\n",
    "    non_active[\"incident_state\"].value_counts().reset_index(),\n",
    "    x='incident_state',\n",
    "    y='index',\n",
    "    orientation='h',\n",
    "    title='Incident State Counts',\n",
    "    labels={'index': 'Incident State', 'incident_state': 'Count'}\n",
    ")\n",
    "\n",
    "# Show the plot\n",
    "fig.show()"
   ]
  },
  {
   "cell_type": "code",
   "execution_count": 45,
   "metadata": {},
   "outputs": [
    {
     "name": "stderr",
     "output_type": "stream",
     "text": [
      "/var/folders/nf/xdcscmx50n3ccqpvd73zgys00000gn/T/ipykernel_30041/339216888.py:3: SettingWithCopyWarning:\n",
      "\n",
      "\n",
      "A value is trying to be set on a copy of a slice from a DataFrame\n",
      "\n",
      "See the caveats in the documentation: https://pandas.pydata.org/pandas-docs/stable/user_guide/indexing.html#returning-a-view-versus-a-copy\n",
      "\n",
      "/var/folders/nf/xdcscmx50n3ccqpvd73zgys00000gn/T/ipykernel_30041/339216888.py:4: SettingWithCopyWarning:\n",
      "\n",
      "\n",
      "A value is trying to be set on a copy of a slice from a DataFrame.\n",
      "Try using .loc[row_indexer,col_indexer] = value instead\n",
      "\n",
      "See the caveats in the documentation: https://pandas.pydata.org/pandas-docs/stable/user_guide/indexing.html#returning-a-view-versus-a-copy\n",
      "\n",
      "/var/folders/nf/xdcscmx50n3ccqpvd73zgys00000gn/T/ipykernel_30041/339216888.py:5: SettingWithCopyWarning:\n",
      "\n",
      "\n",
      "A value is trying to be set on a copy of a slice from a DataFrame.\n",
      "Try using .loc[row_indexer,col_indexer] = value instead\n",
      "\n",
      "See the caveats in the documentation: https://pandas.pydata.org/pandas-docs/stable/user_guide/indexing.html#returning-a-view-versus-a-copy\n",
      "\n",
      "/var/folders/nf/xdcscmx50n3ccqpvd73zgys00000gn/T/ipykernel_30041/339216888.py:6: SettingWithCopyWarning:\n",
      "\n",
      "\n",
      "A value is trying to be set on a copy of a slice from a DataFrame.\n",
      "Try using .loc[row_indexer,col_indexer] = value instead\n",
      "\n",
      "See the caveats in the documentation: https://pandas.pydata.org/pandas-docs/stable/user_guide/indexing.html#returning-a-view-versus-a-copy\n",
      "\n",
      "/var/folders/nf/xdcscmx50n3ccqpvd73zgys00000gn/T/ipykernel_30041/339216888.py:7: SettingWithCopyWarning:\n",
      "\n",
      "\n",
      "A value is trying to be set on a copy of a slice from a DataFrame.\n",
      "Try using .loc[row_indexer,col_indexer] = value instead\n",
      "\n",
      "See the caveats in the documentation: https://pandas.pydata.org/pandas-docs/stable/user_guide/indexing.html#returning-a-view-versus-a-copy\n",
      "\n",
      "/var/folders/nf/xdcscmx50n3ccqpvd73zgys00000gn/T/ipykernel_30041/339216888.py:8: SettingWithCopyWarning:\n",
      "\n",
      "\n",
      "A value is trying to be set on a copy of a slice from a DataFrame.\n",
      "Try using .loc[row_indexer,col_indexer] = value instead\n",
      "\n",
      "See the caveats in the documentation: https://pandas.pydata.org/pandas-docs/stable/user_guide/indexing.html#returning-a-view-versus-a-copy\n",
      "\n"
     ]
    }
   ],
   "source": [
    "# convert to datetime\n",
    "\n",
    "non_active.replace('?', pd.NA, inplace=True)  # Replace '?' with NaN\n",
    "non_active['opened_at'] = pd.to_datetime(non_active['opened_at'], errors='coerce')\n",
    "non_active['sys_created_at'] = pd.to_datetime(non_active['sys_created_at'], errors='coerce')\n",
    "non_active['sys_updated_at'] = pd.to_datetime(non_active['sys_updated_at'], errors='coerce')\n",
    "non_active['resolved_at'] = pd.to_datetime(non_active['resolved_at'], errors='coerce')\n",
    "non_active['closed_at'] = pd.to_datetime(non_active['closed_at'], errors='coerce')\n"
   ]
  },
  {
   "cell_type": "code",
   "execution_count": 46,
   "metadata": {},
   "outputs": [
    {
     "name": "stdout",
     "output_type": "stream",
     "text": [
      "Closed    738\n",
      "Name: incident_state, dtype: int64\n",
      "0     395\n",
      "1     183\n",
      "2      76\n",
      "3      32\n",
      "4      12\n",
      "5      11\n",
      "6       9\n",
      "7       6\n",
      "10      5\n",
      "8       4\n",
      "9       2\n",
      "18      1\n",
      "14      1\n",
      "12      1\n",
      "Name: reassignment_count, dtype: int64\n",
      "2 - Medium    649\n",
      "3 - Low        60\n",
      "1 - High       29\n",
      "Name: impact, dtype: int64\n",
      "2 - Medium    649\n",
      "3 - Low        60\n",
      "1 - High       29\n",
      "Name: urgency, dtype: int64\n",
      "3 - Moderate    623\n",
      "4 - Low          71\n",
      "2 - High         31\n",
      "1 - Critical     13\n",
      "Name: priority, dtype: int64\n",
      "Average time to resolve incidents: 61 days 02:54:12.923076923\n"
     ]
    },
    {
     "name": "stderr",
     "output_type": "stream",
     "text": [
      "/var/folders/nf/xdcscmx50n3ccqpvd73zgys00000gn/T/ipykernel_30041/2854352394.py:22: SettingWithCopyWarning:\n",
      "\n",
      "\n",
      "A value is trying to be set on a copy of a slice from a DataFrame.\n",
      "Try using .loc[row_indexer,col_indexer] = value instead\n",
      "\n",
      "See the caveats in the documentation: https://pandas.pydata.org/pandas-docs/stable/user_guide/indexing.html#returning-a-view-versus-a-copy\n",
      "\n",
      "/var/folders/nf/xdcscmx50n3ccqpvd73zgys00000gn/T/ipykernel_30041/2854352394.py:23: SettingWithCopyWarning:\n",
      "\n",
      "\n",
      "A value is trying to be set on a copy of a slice from a DataFrame.\n",
      "Try using .loc[row_indexer,col_indexer] = value instead\n",
      "\n",
      "See the caveats in the documentation: https://pandas.pydata.org/pandas-docs/stable/user_guide/indexing.html#returning-a-view-versus-a-copy\n",
      "\n",
      "/var/folders/nf/xdcscmx50n3ccqpvd73zgys00000gn/T/ipykernel_30041/2854352394.py:24: SettingWithCopyWarning:\n",
      "\n",
      "\n",
      "A value is trying to be set on a copy of a slice from a DataFrame.\n",
      "Try using .loc[row_indexer,col_indexer] = value instead\n",
      "\n",
      "See the caveats in the documentation: https://pandas.pydata.org/pandas-docs/stable/user_guide/indexing.html#returning-a-view-versus-a-copy\n",
      "\n"
     ]
    }
   ],
   "source": [
    "\n",
    "# Incident state distribution\n",
    "incident_state_counts = non_active['incident_state'].value_counts()\n",
    "print(incident_state_counts)\n",
    "\n",
    "# Reassignment count distribution\n",
    "reassignment_counts = non_active['reassignment_count'].value_counts()\n",
    "print(reassignment_counts)\n",
    "\n",
    "# Impact distribution\n",
    "impact_counts = non_active['impact'].value_counts()\n",
    "print(impact_counts)\n",
    "\n",
    "# Urgency distribution\n",
    "urgency_counts = non_active['urgency'].value_counts()\n",
    "print(urgency_counts)\n",
    "\n",
    "# Priority distribution\n",
    "priority_counts = non_active['priority'].value_counts()\n",
    "print(priority_counts)\n",
    "\n",
    "# Time taken to resolve incidents\n",
    "non_active['time_to_resolve'] = non_active['resolved_at'] - non_active['opened_at']\n",
    "non_active[\"time_to_resolve_hours\"] = non_active[\"time_to_resolve\"].astype('timedelta64[s]') / 3600\n",
    "non_active[\"time_to_resolve_hours\"] = non_active[\"time_to_resolve\"].astype('timedelta64[s]') / 3600\n",
    "non_active.loc[non_active[\"time_to_resolve_hours\"] < 0, \"time_to_resolve_hours\"] = 0\n",
    "\n",
    "average_resolve_time = non_active['time_to_resolve'].mean()\n",
    "print(f\"Average time to resolve incidents: {average_resolve_time}\")\n"
   ]
  },
  {
   "cell_type": "code",
   "execution_count": 47,
   "metadata": {},
   "outputs": [
    {
     "data": {
      "text/html": [
       "<div>\n",
       "<style scoped>\n",
       "    .dataframe tbody tr th:only-of-type {\n",
       "        vertical-align: middle;\n",
       "    }\n",
       "\n",
       "    .dataframe tbody tr th {\n",
       "        vertical-align: top;\n",
       "    }\n",
       "\n",
       "    .dataframe thead th {\n",
       "        text-align: right;\n",
       "    }\n",
       "</style>\n",
       "<table border=\"1\" class=\"dataframe\">\n",
       "  <thead>\n",
       "    <tr style=\"text-align: right;\">\n",
       "      <th></th>\n",
       "      <th>number</th>\n",
       "      <th>incident_state</th>\n",
       "      <th>active</th>\n",
       "      <th>reassignment_count</th>\n",
       "      <th>reopen_count</th>\n",
       "      <th>sys_mod_count</th>\n",
       "      <th>made_sla</th>\n",
       "      <th>caller_id</th>\n",
       "      <th>opened_by</th>\n",
       "      <th>opened_at</th>\n",
       "      <th>sys_created_by</th>\n",
       "      <th>sys_created_at</th>\n",
       "      <th>sys_updated_by</th>\n",
       "      <th>sys_updated_at</th>\n",
       "      <th>contact_type</th>\n",
       "      <th>location</th>\n",
       "      <th>category</th>\n",
       "      <th>subcategory</th>\n",
       "      <th>u_symptom</th>\n",
       "      <th>cmdb_ci</th>\n",
       "      <th>impact</th>\n",
       "      <th>urgency</th>\n",
       "      <th>priority</th>\n",
       "      <th>assignment_group</th>\n",
       "      <th>assigned_to</th>\n",
       "      <th>knowledge</th>\n",
       "      <th>u_priority_confirmation</th>\n",
       "      <th>notify</th>\n",
       "      <th>problem_id</th>\n",
       "      <th>rfc</th>\n",
       "      <th>vendor</th>\n",
       "      <th>caused_by</th>\n",
       "      <th>closed_code</th>\n",
       "      <th>resolved_by</th>\n",
       "      <th>resolved_at</th>\n",
       "      <th>closed_at</th>\n",
       "      <th>time_to_resolve</th>\n",
       "      <th>time_to_resolve_hours</th>\n",
       "    </tr>\n",
       "  </thead>\n",
       "  <tbody>\n",
       "    <tr>\n",
       "      <th>4498</th>\n",
       "      <td>INC0001127</td>\n",
       "      <td>Closed</td>\n",
       "      <td>False</td>\n",
       "      <td>1</td>\n",
       "      <td>0</td>\n",
       "      <td>24</td>\n",
       "      <td>False</td>\n",
       "      <td>Caller 4330</td>\n",
       "      <td>Opened by  468</td>\n",
       "      <td>2016-02-03 10:39:00</td>\n",
       "      <td>Created by 188</td>\n",
       "      <td>2016-02-03 10:42:00</td>\n",
       "      <td>Updated by 908</td>\n",
       "      <td>2016-01-05 15:07:00</td>\n",
       "      <td>Phone</td>\n",
       "      <td>Location 41</td>\n",
       "      <td>Category 44</td>\n",
       "      <td>Subcategory 57</td>\n",
       "      <td>&lt;NA&gt;</td>\n",
       "      <td>&lt;NA&gt;</td>\n",
       "      <td>2 - Medium</td>\n",
       "      <td>2 - Medium</td>\n",
       "      <td>3 - Moderate</td>\n",
       "      <td>Group 5</td>\n",
       "      <td>Resolver 237</td>\n",
       "      <td>True</td>\n",
       "      <td>True</td>\n",
       "      <td>Do Not Notify</td>\n",
       "      <td>&lt;NA&gt;</td>\n",
       "      <td>&lt;NA&gt;</td>\n",
       "      <td>&lt;NA&gt;</td>\n",
       "      <td>&lt;NA&gt;</td>\n",
       "      <td>code 6</td>\n",
       "      <td>Resolved by 216</td>\n",
       "      <td>2016-04-26 14:50:00</td>\n",
       "      <td>2016-01-05 15:07:00</td>\n",
       "      <td>83 days 04:11:00</td>\n",
       "      <td>1996.183333</td>\n",
       "    </tr>\n",
       "    <tr>\n",
       "      <th>4929</th>\n",
       "      <td>INC0001225</td>\n",
       "      <td>Closed</td>\n",
       "      <td>False</td>\n",
       "      <td>0</td>\n",
       "      <td>0</td>\n",
       "      <td>4</td>\n",
       "      <td>True</td>\n",
       "      <td>Caller 3597</td>\n",
       "      <td>&lt;NA&gt;</td>\n",
       "      <td>2016-02-03 11:45:00</td>\n",
       "      <td>Created by 89</td>\n",
       "      <td>2016-02-03 11:51:00</td>\n",
       "      <td>Updated by 908</td>\n",
       "      <td>2016-09-03 13:00:00</td>\n",
       "      <td>Phone</td>\n",
       "      <td>Location 204</td>\n",
       "      <td>Category 37</td>\n",
       "      <td>Subcategory 123</td>\n",
       "      <td>Symptom 118</td>\n",
       "      <td>&lt;NA&gt;</td>\n",
       "      <td>2 - Medium</td>\n",
       "      <td>2 - Medium</td>\n",
       "      <td>3 - Moderate</td>\n",
       "      <td>Group 46</td>\n",
       "      <td>Resolver 83</td>\n",
       "      <td>True</td>\n",
       "      <td>False</td>\n",
       "      <td>Do Not Notify</td>\n",
       "      <td>&lt;NA&gt;</td>\n",
       "      <td>&lt;NA&gt;</td>\n",
       "      <td>&lt;NA&gt;</td>\n",
       "      <td>&lt;NA&gt;</td>\n",
       "      <td>code 6</td>\n",
       "      <td>Resolved by 76</td>\n",
       "      <td>2016-04-03 12:03:00</td>\n",
       "      <td>2016-09-03 13:00:00</td>\n",
       "      <td>60 days 00:18:00</td>\n",
       "      <td>1440.300000</td>\n",
       "    </tr>\n",
       "    <tr>\n",
       "      <th>2522</th>\n",
       "      <td>INC0000738</td>\n",
       "      <td>Closed</td>\n",
       "      <td>False</td>\n",
       "      <td>0</td>\n",
       "      <td>0</td>\n",
       "      <td>2</td>\n",
       "      <td>True</td>\n",
       "      <td>Caller 4414</td>\n",
       "      <td>Opened by  433</td>\n",
       "      <td>2016-01-03 13:37:00</td>\n",
       "      <td>Created by 190</td>\n",
       "      <td>2016-01-03 13:40:00</td>\n",
       "      <td>Updated by 908</td>\n",
       "      <td>2016-06-03 15:00:00</td>\n",
       "      <td>Phone</td>\n",
       "      <td>Location 51</td>\n",
       "      <td>Category 45</td>\n",
       "      <td>Subcategory 200</td>\n",
       "      <td>&lt;NA&gt;</td>\n",
       "      <td>&lt;NA&gt;</td>\n",
       "      <td>2 - Medium</td>\n",
       "      <td>2 - Medium</td>\n",
       "      <td>3 - Moderate</td>\n",
       "      <td>Group 39</td>\n",
       "      <td>&lt;NA&gt;</td>\n",
       "      <td>True</td>\n",
       "      <td>False</td>\n",
       "      <td>Do Not Notify</td>\n",
       "      <td>&lt;NA&gt;</td>\n",
       "      <td>&lt;NA&gt;</td>\n",
       "      <td>&lt;NA&gt;</td>\n",
       "      <td>&lt;NA&gt;</td>\n",
       "      <td>code 6</td>\n",
       "      <td>Resolved by 166</td>\n",
       "      <td>2016-01-03 14:49:00</td>\n",
       "      <td>2016-06-03 15:00:00</td>\n",
       "      <td>0 days 01:12:00</td>\n",
       "      <td>1.200000</td>\n",
       "    </tr>\n",
       "    <tr>\n",
       "      <th>4605</th>\n",
       "      <td>INC0001149</td>\n",
       "      <td>Closed</td>\n",
       "      <td>False</td>\n",
       "      <td>0</td>\n",
       "      <td>0</td>\n",
       "      <td>25</td>\n",
       "      <td>False</td>\n",
       "      <td>Caller 5281</td>\n",
       "      <td>Opened by  267</td>\n",
       "      <td>2016-02-03 11:03:00</td>\n",
       "      <td>Created by 113</td>\n",
       "      <td>2016-02-03 11:05:00</td>\n",
       "      <td>Updated by 908</td>\n",
       "      <td>2016-05-16 17:07:00</td>\n",
       "      <td>Phone</td>\n",
       "      <td>Location 161</td>\n",
       "      <td>Category 45</td>\n",
       "      <td>Subcategory 150</td>\n",
       "      <td>&lt;NA&gt;</td>\n",
       "      <td>&lt;NA&gt;</td>\n",
       "      <td>2 - Medium</td>\n",
       "      <td>2 - Medium</td>\n",
       "      <td>3 - Moderate</td>\n",
       "      <td>Group 10</td>\n",
       "      <td>Resolver 139</td>\n",
       "      <td>True</td>\n",
       "      <td>True</td>\n",
       "      <td>Do Not Notify</td>\n",
       "      <td>&lt;NA&gt;</td>\n",
       "      <td>&lt;NA&gt;</td>\n",
       "      <td>&lt;NA&gt;</td>\n",
       "      <td>&lt;NA&gt;</td>\n",
       "      <td>code 6</td>\n",
       "      <td>Resolved by 125</td>\n",
       "      <td>2016-11-05 16:10:00</td>\n",
       "      <td>2016-05-16 17:07:00</td>\n",
       "      <td>276 days 05:07:00</td>\n",
       "      <td>6629.116667</td>\n",
       "    </tr>\n",
       "  </tbody>\n",
       "</table>\n",
       "</div>"
      ],
      "text/plain": [
       "          number incident_state  active  reassignment_count  reopen_count  \\\n",
       "4498  INC0001127         Closed   False                   1             0   \n",
       "4929  INC0001225         Closed   False                   0             0   \n",
       "2522  INC0000738         Closed   False                   0             0   \n",
       "4605  INC0001149         Closed   False                   0             0   \n",
       "\n",
       "      sys_mod_count  made_sla    caller_id       opened_by  \\\n",
       "4498             24     False  Caller 4330  Opened by  468   \n",
       "4929              4      True  Caller 3597            <NA>   \n",
       "2522              2      True  Caller 4414  Opened by  433   \n",
       "4605             25     False  Caller 5281  Opened by  267   \n",
       "\n",
       "               opened_at  sys_created_by      sys_created_at  sys_updated_by  \\\n",
       "4498 2016-02-03 10:39:00  Created by 188 2016-02-03 10:42:00  Updated by 908   \n",
       "4929 2016-02-03 11:45:00   Created by 89 2016-02-03 11:51:00  Updated by 908   \n",
       "2522 2016-01-03 13:37:00  Created by 190 2016-01-03 13:40:00  Updated by 908   \n",
       "4605 2016-02-03 11:03:00  Created by 113 2016-02-03 11:05:00  Updated by 908   \n",
       "\n",
       "          sys_updated_at contact_type      location     category  \\\n",
       "4498 2016-01-05 15:07:00        Phone   Location 41  Category 44   \n",
       "4929 2016-09-03 13:00:00        Phone  Location 204  Category 37   \n",
       "2522 2016-06-03 15:00:00        Phone   Location 51  Category 45   \n",
       "4605 2016-05-16 17:07:00        Phone  Location 161  Category 45   \n",
       "\n",
       "          subcategory    u_symptom cmdb_ci      impact     urgency  \\\n",
       "4498   Subcategory 57         <NA>    <NA>  2 - Medium  2 - Medium   \n",
       "4929  Subcategory 123  Symptom 118    <NA>  2 - Medium  2 - Medium   \n",
       "2522  Subcategory 200         <NA>    <NA>  2 - Medium  2 - Medium   \n",
       "4605  Subcategory 150         <NA>    <NA>  2 - Medium  2 - Medium   \n",
       "\n",
       "          priority assignment_group   assigned_to  knowledge  \\\n",
       "4498  3 - Moderate          Group 5  Resolver 237       True   \n",
       "4929  3 - Moderate         Group 46   Resolver 83       True   \n",
       "2522  3 - Moderate         Group 39          <NA>       True   \n",
       "4605  3 - Moderate         Group 10  Resolver 139       True   \n",
       "\n",
       "      u_priority_confirmation         notify problem_id   rfc vendor  \\\n",
       "4498                     True  Do Not Notify       <NA>  <NA>   <NA>   \n",
       "4929                    False  Do Not Notify       <NA>  <NA>   <NA>   \n",
       "2522                    False  Do Not Notify       <NA>  <NA>   <NA>   \n",
       "4605                     True  Do Not Notify       <NA>  <NA>   <NA>   \n",
       "\n",
       "     caused_by closed_code      resolved_by         resolved_at  \\\n",
       "4498      <NA>      code 6  Resolved by 216 2016-04-26 14:50:00   \n",
       "4929      <NA>      code 6   Resolved by 76 2016-04-03 12:03:00   \n",
       "2522      <NA>      code 6  Resolved by 166 2016-01-03 14:49:00   \n",
       "4605      <NA>      code 6  Resolved by 125 2016-11-05 16:10:00   \n",
       "\n",
       "               closed_at   time_to_resolve  time_to_resolve_hours  \n",
       "4498 2016-01-05 15:07:00  83 days 04:11:00            1996.183333  \n",
       "4929 2016-09-03 13:00:00  60 days 00:18:00            1440.300000  \n",
       "2522 2016-06-03 15:00:00   0 days 01:12:00               1.200000  \n",
       "4605 2016-05-16 17:07:00 276 days 05:07:00            6629.116667  "
      ]
     },
     "execution_count": 47,
     "metadata": {},
     "output_type": "execute_result"
    }
   ],
   "source": [
    "non_active.sample(4)"
   ]
  },
  {
   "cell_type": "markdown",
   "metadata": {},
   "source": [
    "Which kind of incidents are getting reopened?"
   ]
  },
  {
   "cell_type": "markdown",
   "metadata": {},
   "source": [
    "## time to resolve in hrs plot"
   ]
  },
  {
   "cell_type": "code",
   "execution_count": 48,
   "metadata": {},
   "outputs": [
    {
     "name": "stdout",
     "output_type": "stream",
     "text": [
      "(9, 38)\n"
     ]
    }
   ],
   "source": [
    "reopened_df = non_active[non_active[\"reopen_count\"] > 0]\n",
    "print(reopened_df.shape)"
   ]
  },
  {
   "cell_type": "code",
   "execution_count": 49,
   "metadata": {},
   "outputs": [
    {
     "data": {
      "application/vnd.plotly.v1+json": {
       "config": {
        "plotlyServerURL": "https://plot.ly"
       },
       "data": [
        {
         "alignmentgroup": "True",
         "bingroup": "x",
         "hovertemplate": "time_to_resolve_hours=%{x}<br>count=%{y}<extra></extra>",
         "legendgroup": "",
         "marker": {
          "color": "#636efa",
          "pattern": {
           "shape": ""
          }
         },
         "name": "",
         "nbinsx": 500,
         "offsetgroup": "",
         "orientation": "v",
         "showlegend": false,
         "type": "histogram",
         "x": [
          10.216666666666667,
          0,
          0,
          0,
          8.883333333333333,
          8.883333333333333,
          80.83333333333333,
          0,
          0,
          0,
          3745.733333333333,
          0,
          0,
          5982.266666666666,
          8.033333333333333,
          0.6166666666666667,
          2.8,
          0,
          7.433333333333334,
          6702.116666666667,
          0,
          0,
          0,
          0.2833333333333333,
          77.73333333333333,
          2999.8333333333335,
          null,
          5209.783333333334,
          0,
          0,
          0,
          1.9166666666666667,
          415.3666666666667,
          0,
          0,
          2.8,
          0,
          0,
          0,
          0,
          64,
          0,
          0,
          0,
          7.1,
          0,
          0,
          1.5833333333333333,
          0,
          0,
          5954.65,
          531.8333333333334,
          72.58333333333333,
          71.76666666666667,
          77.6,
          70.61666666666666,
          6.533333333333333,
          1.25,
          0,
          74.13333333333334,
          0,
          0,
          335.81666666666666,
          0,
          0,
          71.25,
          0,
          0,
          0,
          0,
          0,
          null,
          3743.0666666666666,
          76.26666666666667,
          6,
          0.5833333333333334,
          0,
          0,
          435.18333333333334,
          7.8,
          5980.216666666666,
          0,
          0,
          1.1666666666666667,
          0,
          0.06666666666666667,
          0,
          0.2,
          0,
          744.1833333333333,
          null,
          5.5,
          8.933333333333334,
          67.38333333333334,
          1.4666666666666666,
          3741.65,
          1.7166666666666666,
          4493.466666666666,
          0,
          68.93333333333334,
          3.95,
          3002.9666666666667,
          6681.05,
          0.8333333333333334,
          0,
          815.25,
          6680.783333333334,
          0,
          9.666666666666666,
          0,
          74.28333333333333,
          4.883333333333334,
          0,
          0,
          819.1,
          4483.366666666667,
          null,
          3745.983333333333,
          817.0333333333333,
          0.9666666666666667,
          0,
          3006.116666666667,
          70.7,
          0,
          0,
          0,
          74.18333333333334,
          null,
          0,
          330.31666666666666,
          811.4,
          811.3166666666667,
          6473.85,
          0,
          526.5666666666667,
          5211.4,
          72.73333333333333,
          816.2166666666667,
          0,
          7056.416666666667,
          0,
          2994.5833333333335,
          1346.4333333333334,
          669.45,
          0,
          null,
          2586.7833333333333,
          378.1166666666667,
          380.8,
          430.8666666666667,
          4483.95,
          1434.75,
          5210.4,
          2181.266666666667,
          1559.1333333333334,
          1.0833333333333333,
          0,
          7122.283333333334,
          0,
          1434.4666666666667,
          65.88333333333334,
          1170.3666666666666,
          504.78333333333336,
          null,
          null,
          68.4,
          3737.3333333333335,
          0,
          0.11666666666666667,
          0.11666666666666667,
          6762.083333333333,
          4489.75,
          671.1833333333333,
          0,
          0,
          698.0166666666667,
          808.0666666666667,
          5209.933333333333,
          0.38333333333333336,
          1919.25,
          2998.983333333333,
          0.3333333333333333,
          0,
          4,
          64.73333333333333,
          665.15,
          4482.316666666667,
          528.0666666666667,
          0,
          0,
          0,
          6669.266666666666,
          0,
          null,
          337.51666666666665,
          0,
          2998.75,
          63.516666666666666,
          405.7,
          548.0166666666667,
          0,
          603.4166666666666,
          0.9166666666666666,
          60.13333333333333,
          0,
          351.51666666666665,
          0.3333333333333333,
          421.9166666666667,
          1909.7666666666667,
          2432.95,
          7.583333333333333,
          752.9166666666666,
          1909.4166666666667,
          750.5166666666667,
          6.716666666666667,
          0.3333333333333333,
          0.7666666666666667,
          1784.3833333333334,
          1443.0666666666666,
          2194.133333333333,
          1.35,
          745.2,
          753.3833333333333,
          752.4,
          1442,
          1786.55,
          1449.1166666666666,
          1448.55,
          1902.7833333333333,
          1440.8666666666666,
          1447.4666666666667,
          1.85,
          2570.5666666666666,
          746.5,
          1445.0166666666667,
          743.3666666666667,
          1756.2833333333333,
          2190.516666666667,
          743.1333333333333,
          10.9,
          1441.4333333333334,
          0.08333333333333333,
          746.6666666666666,
          5.316666666666666,
          736.4666666666667,
          2184.4333333333334,
          0.5333333333333333,
          748.1,
          1443.8166666666666,
          0.5666666666666667,
          1895.1166666666666,
          7.1,
          1442.6833333333334,
          0.016666666666666666,
          5116.216666666666,
          2185.7166666666667,
          746.1166666666667,
          1446.4666666666667,
          1444.8666666666666,
          7322.716666666666,
          1439.2,
          5.816666666666666,
          2088.6666666666665,
          2183.7,
          1901.5833333333333,
          2185.7833333333333,
          1447.5166666666667,
          7320.066666666667,
          747.9166666666666,
          1894.8166666666666,
          2039.6,
          2.65,
          2573.9166666666665,
          4374.366666666667,
          1446,
          1776.6,
          1448.6166666666666,
          742.0666666666667,
          11.766666666666667,
          null,
          0.48333333333333334,
          1440.4833333333333,
          1945.9833333333333,
          2191.5666666666666,
          1776.9166666666667,
          1783.6833333333334,
          742.4,
          1437.9,
          1448.0833333333333,
          1711.8333333333333,
          753.1,
          4367.35,
          1445.9833333333333,
          null,
          1783.3333333333333,
          1775.7666666666667,
          747.8666666666667,
          1776.8,
          744.45,
          742.45,
          744.15,
          744.4166666666666,
          749.05,
          0.9333333333333333,
          743.05,
          3.3333333333333335,
          1.9666666666666666,
          1445.4333333333334,
          1437.8666666666666,
          745.1833333333333,
          1800.4833333333333,
          2.8333333333333335,
          1796.4,
          4364.666666666667,
          1445.2666666666667,
          745.3333333333334,
          1441.7666666666667,
          4373.816666666667,
          1437.6833333333334,
          2188.9,
          1437.9666666666667,
          1.5333333333333334,
          8047.583333333333,
          2.966666666666667,
          1441.9166666666667,
          7323.216666666666,
          7323.216666666666,
          7323.216666666666,
          2.9833333333333334,
          1701.9,
          3.05,
          748.7833333333333,
          1437.8666666666666,
          null,
          5.883333333333334,
          0.16666666666666666,
          1775.2666666666667,
          2.433333333333333,
          6579.566666666667,
          2180.016666666667,
          745.6,
          1899.2,
          1438.7833333333333,
          1439.25,
          3.85,
          1436.6166666666666,
          1994.1166666666666,
          2188.7833333333333,
          2187.7,
          1898.9833333333333,
          null,
          null,
          1436.4,
          3.566666666666667,
          3.55,
          3.5166666666666666,
          3.5166666666666666,
          1442.0833333333333,
          3.4833333333333334,
          3.466666666666667,
          3.2666666666666666,
          3.45,
          3.4166666666666665,
          3.4166666666666665,
          2186.9,
          2182.4333333333334,
          0.21666666666666667,
          2.35,
          0.08333333333333333,
          1710.4166666666667,
          1.4666666666666666,
          6578.55,
          1438.6333333333334,
          1773.95,
          0.36666666666666664,
          1943.0166666666667,
          1733.8333333333333,
          1438.45,
          1435.6333333333334,
          null,
          1805.0666666666666,
          1442.5,
          1436.9,
          1.2,
          5109.933333333333,
          1705.8,
          0.23333333333333334,
          1.4,
          1.3833333333333333,
          0.4166666666666667,
          5856.683333333333,
          747.2666666666667,
          2.0833333333333335,
          744.0333333333333,
          1.9,
          1437.5666666666666,
          null,
          1769.95,
          0.5666666666666667,
          1.3666666666666667,
          1.45,
          744.7666666666667,
          1,
          1771.9166666666667,
          1770.0333333333333,
          2181.3333333333335,
          2188.3166666666666,
          2186.0666666666666,
          4385.716666666666,
          1727.6833333333334,
          6572.533333333334,
          1442.7833333333333,
          1.1166666666666667,
          0.2833333333333333,
          2186.616666666667,
          2.3666666666666667,
          1752.3666666666666,
          1915.7833333333333,
          2448.3166666666666,
          5856.766666666666,
          1435.1,
          1936.7833333333333,
          741.7666666666667,
          1442.3333333333333,
          5106,
          1433.2166666666667,
          4360.983333333334,
          1435.0333333333333,
          1440.9166666666667,
          1433.8666666666666,
          6572.6,
          2186.2833333333333,
          1439.95,
          7321.1,
          738.15,
          741.9,
          1434.1666666666667,
          2187.883333333333,
          1439.1,
          2927.8333333333335,
          1735.2666666666667,
          737.9333333333333,
          744.1333333333333,
          6571.3,
          2180.4666666666667,
          1440.55,
          747.7,
          737.7166666666667,
          1434.5833333333333,
          4367.35,
          1895.1666666666667,
          5849.7,
          5105.25,
          2179.6666666666665,
          1918.1,
          747.8166666666667,
          1433.3333333333333,
          738.3,
          3141.75,
          0.5166666666666667,
          1775.2,
          2183.5833333333335,
          729.65,
          737.4666666666667,
          2087.7166666666667,
          2183.233333333333,
          1438.9166666666667,
          2181.7,
          737.0166666666667,
          2778.6666666666665,
          737.7833333333333,
          0.25,
          2177.1833333333334,
          1432.95,
          738.6833333333333,
          738.35,
          741.3333333333334,
          1439.9333333333334,
          1865.45,
          736.1,
          1434.6,
          4367.216666666666,
          1440,
          4358.916666666667,
          5852.25,
          4361.116666666667,
          0.26666666666666666,
          5106.966666666666,
          4358.25,
          4363.95,
          736.0333333333333,
          1886.5666666666666,
          1885.3333333333333,
          4364.133333333333,
          1437.2666666666667,
          1769.4333333333334,
          5846.383333333333,
          2180.1666666666665,
          5106.783333333334,
          2180.4166666666665,
          5846.65,
          1750.2,
          2174.55,
          5109.05,
          5105.583333333333,
          5103.833333333333,
          732.8833333333333,
          2172.9666666666667,
          740.3833333333333,
          735.8833333333333,
          5851.1,
          0.4166666666666667,
          735.2666666666667,
          735.2166666666667,
          735.2166666666667,
          1427.2166666666667,
          0.8166666666666667,
          735.1,
          0.8833333333333333,
          0.6833333333333333,
          1764.5,
          736.4166666666666,
          null,
          737.5666666666667,
          738.4,
          0.18333333333333332,
          705.0166666666667,
          3.15,
          704.9833333333333,
          8.533333333333333,
          8.783333333333333,
          701.8333333333334,
          4374.283333333334,
          9.833333333333334,
          0.1,
          4372.4,
          8.233333333333333,
          4375.333333333333,
          706.3166666666667,
          1152.85,
          1152.85,
          1152.85,
          703.2,
          1001.6166666666667,
          4374.166666666667,
          1012.6,
          985.8333333333334,
          7.516666666666667,
          1447.9333333333334,
          3.066666666666667,
          701.8833333333333,
          6632.933333333333,
          7.116666666666666,
          1152.35,
          1.2666666666666666,
          1448.85,
          1159,
          5118.866666666667,
          6579.016666666666,
          984.4666666666667,
          0.18333333333333332,
          1.7666666666666666,
          3631.9166666666665,
          3627.6833333333334,
          1351.8333333333333,
          4370.8,
          696.9666666666667,
          695.9833333333333,
          703.8666666666667,
          703.8666666666667,
          703.8666666666667,
          5.183333333333334,
          0.08333333333333333,
          1448.35,
          6.633333333333334,
          6.866666666666666,
          3.25,
          7328.416666666667,
          3624.4166666666665,
          700.1666666666666,
          703.35,
          699.4833333333333,
          0.15,
          4392.433333333333,
          696.55,
          7.216666666666667,
          1439.7,
          1444.7166666666667,
          1010.3666666666667,
          3.1,
          3626.766666666667,
          5.15,
          700.95,
          5118.316666666667,
          0.4166666666666667,
          0.06666666666666667,
          0.2,
          7.366666666666666,
          1303.8,
          2064.6666666666665,
          696.7833333333333,
          1034.15,
          0.45,
          1159.8833333333334,
          696.45,
          696.45,
          4375.183333333333,
          5836.466666666666,
          0.35,
          5117.833333333333,
          694.7166666666667,
          4369.8,
          7343.85,
          4372.95,
          984.7166666666667,
          696.7833333333333,
          702.7833333333333,
          1442.55,
          3535.866666666667,
          1038.7833333333333,
          2570.5333333333333,
          6573.683333333333,
          3624.5666666666666,
          1079.7333333333333,
          1033.6166666666666,
          6579,
          0.8833333333333333,
          703.0166666666667,
          688.8833333333333,
          700.7333333333333,
          4.783333333333333,
          7.333333333333333,
          0,
          967.6,
          1966.8666666666666,
          697.7833333333333,
          4373.733333333334,
          5831.9,
          null,
          3628.7833333333333,
          697.65,
          6581.266666666666,
          1151.45,
          1005.7166666666667,
          1153.5,
          6581.533333333334,
          702.1833333333333,
          1152.85,
          2.8,
          9.25,
          5.2,
          1350.05,
          3624.7166666666667,
          null,
          3624.2833333333333,
          5838.1,
          2015.75,
          6629.733333333334,
          null,
          0.35,
          6607.116666666667,
          4369.566666666667,
          1446.4,
          1439.7666666666667,
          4.666666666666667,
          0.45,
          1996.1833333333334,
          698.95,
          0.36666666666666664,
          1032.0166666666667,
          1157.95,
          1848.5166666666667,
          6.6,
          695.5666666666667,
          6629.633333333333,
          3535.9,
          null,
          5111.133333333333,
          695.0333333333333,
          3648.7166666666667,
          689.3833333333333,
          1685.7,
          3621.016666666667,
          695.2,
          1443.9166666666667,
          6629.116666666667,
          1179.6166666666666,
          null,
          1150.2833333333333,
          2928.1833333333334,
          1032.5666666666666,
          1966.6,
          1174.7333333333333,
          2931.25,
          2930.366666666667,
          2572.25,
          7082.55,
          5.25,
          1197.05,
          1440.5,
          2928.4166666666665,
          1010.4166666666666,
          694.55,
          null,
          2468.116666666667,
          2468.1666666666665,
          1155.15,
          2931.133333333333,
          3.533333333333333,
          4373.233333333334,
          1196.5666666666666,
          4366.383333333333,
          1030,
          2472.3333333333335,
          1031.0333333333333,
          2.183333333333333,
          5117.5,
          1703.6333333333334,
          6573.05,
          1965.4666666666667,
          1059.6,
          1992.2,
          5113.816666666667,
          3621.25,
          4365.883333333333,
          960.3,
          2.8,
          1197,
          693.1833333333333,
          1440.3,
          696.2666666666667,
          3622.9333333333334,
          699.1,
          1031.05,
          1175.1666666666667,
          5829.9,
          5836.683333333333,
          696.4666666666667
         ],
         "xaxis": "x",
         "yaxis": "y"
        }
       ],
       "layout": {
        "barmode": "relative",
        "legend": {
         "tracegroupgap": 0
        },
        "template": {
         "data": {
          "bar": [
           {
            "error_x": {
             "color": "#2a3f5f"
            },
            "error_y": {
             "color": "#2a3f5f"
            },
            "marker": {
             "line": {
              "color": "#E5ECF6",
              "width": 0.5
             },
             "pattern": {
              "fillmode": "overlay",
              "size": 10,
              "solidity": 0.2
             }
            },
            "type": "bar"
           }
          ],
          "barpolar": [
           {
            "marker": {
             "line": {
              "color": "#E5ECF6",
              "width": 0.5
             },
             "pattern": {
              "fillmode": "overlay",
              "size": 10,
              "solidity": 0.2
             }
            },
            "type": "barpolar"
           }
          ],
          "carpet": [
           {
            "aaxis": {
             "endlinecolor": "#2a3f5f",
             "gridcolor": "white",
             "linecolor": "white",
             "minorgridcolor": "white",
             "startlinecolor": "#2a3f5f"
            },
            "baxis": {
             "endlinecolor": "#2a3f5f",
             "gridcolor": "white",
             "linecolor": "white",
             "minorgridcolor": "white",
             "startlinecolor": "#2a3f5f"
            },
            "type": "carpet"
           }
          ],
          "choropleth": [
           {
            "colorbar": {
             "outlinewidth": 0,
             "ticks": ""
            },
            "type": "choropleth"
           }
          ],
          "contour": [
           {
            "colorbar": {
             "outlinewidth": 0,
             "ticks": ""
            },
            "colorscale": [
             [
              0,
              "#0d0887"
             ],
             [
              0.1111111111111111,
              "#46039f"
             ],
             [
              0.2222222222222222,
              "#7201a8"
             ],
             [
              0.3333333333333333,
              "#9c179e"
             ],
             [
              0.4444444444444444,
              "#bd3786"
             ],
             [
              0.5555555555555556,
              "#d8576b"
             ],
             [
              0.6666666666666666,
              "#ed7953"
             ],
             [
              0.7777777777777778,
              "#fb9f3a"
             ],
             [
              0.8888888888888888,
              "#fdca26"
             ],
             [
              1,
              "#f0f921"
             ]
            ],
            "type": "contour"
           }
          ],
          "contourcarpet": [
           {
            "colorbar": {
             "outlinewidth": 0,
             "ticks": ""
            },
            "type": "contourcarpet"
           }
          ],
          "heatmap": [
           {
            "colorbar": {
             "outlinewidth": 0,
             "ticks": ""
            },
            "colorscale": [
             [
              0,
              "#0d0887"
             ],
             [
              0.1111111111111111,
              "#46039f"
             ],
             [
              0.2222222222222222,
              "#7201a8"
             ],
             [
              0.3333333333333333,
              "#9c179e"
             ],
             [
              0.4444444444444444,
              "#bd3786"
             ],
             [
              0.5555555555555556,
              "#d8576b"
             ],
             [
              0.6666666666666666,
              "#ed7953"
             ],
             [
              0.7777777777777778,
              "#fb9f3a"
             ],
             [
              0.8888888888888888,
              "#fdca26"
             ],
             [
              1,
              "#f0f921"
             ]
            ],
            "type": "heatmap"
           }
          ],
          "heatmapgl": [
           {
            "colorbar": {
             "outlinewidth": 0,
             "ticks": ""
            },
            "colorscale": [
             [
              0,
              "#0d0887"
             ],
             [
              0.1111111111111111,
              "#46039f"
             ],
             [
              0.2222222222222222,
              "#7201a8"
             ],
             [
              0.3333333333333333,
              "#9c179e"
             ],
             [
              0.4444444444444444,
              "#bd3786"
             ],
             [
              0.5555555555555556,
              "#d8576b"
             ],
             [
              0.6666666666666666,
              "#ed7953"
             ],
             [
              0.7777777777777778,
              "#fb9f3a"
             ],
             [
              0.8888888888888888,
              "#fdca26"
             ],
             [
              1,
              "#f0f921"
             ]
            ],
            "type": "heatmapgl"
           }
          ],
          "histogram": [
           {
            "marker": {
             "pattern": {
              "fillmode": "overlay",
              "size": 10,
              "solidity": 0.2
             }
            },
            "type": "histogram"
           }
          ],
          "histogram2d": [
           {
            "colorbar": {
             "outlinewidth": 0,
             "ticks": ""
            },
            "colorscale": [
             [
              0,
              "#0d0887"
             ],
             [
              0.1111111111111111,
              "#46039f"
             ],
             [
              0.2222222222222222,
              "#7201a8"
             ],
             [
              0.3333333333333333,
              "#9c179e"
             ],
             [
              0.4444444444444444,
              "#bd3786"
             ],
             [
              0.5555555555555556,
              "#d8576b"
             ],
             [
              0.6666666666666666,
              "#ed7953"
             ],
             [
              0.7777777777777778,
              "#fb9f3a"
             ],
             [
              0.8888888888888888,
              "#fdca26"
             ],
             [
              1,
              "#f0f921"
             ]
            ],
            "type": "histogram2d"
           }
          ],
          "histogram2dcontour": [
           {
            "colorbar": {
             "outlinewidth": 0,
             "ticks": ""
            },
            "colorscale": [
             [
              0,
              "#0d0887"
             ],
             [
              0.1111111111111111,
              "#46039f"
             ],
             [
              0.2222222222222222,
              "#7201a8"
             ],
             [
              0.3333333333333333,
              "#9c179e"
             ],
             [
              0.4444444444444444,
              "#bd3786"
             ],
             [
              0.5555555555555556,
              "#d8576b"
             ],
             [
              0.6666666666666666,
              "#ed7953"
             ],
             [
              0.7777777777777778,
              "#fb9f3a"
             ],
             [
              0.8888888888888888,
              "#fdca26"
             ],
             [
              1,
              "#f0f921"
             ]
            ],
            "type": "histogram2dcontour"
           }
          ],
          "mesh3d": [
           {
            "colorbar": {
             "outlinewidth": 0,
             "ticks": ""
            },
            "type": "mesh3d"
           }
          ],
          "parcoords": [
           {
            "line": {
             "colorbar": {
              "outlinewidth": 0,
              "ticks": ""
             }
            },
            "type": "parcoords"
           }
          ],
          "pie": [
           {
            "automargin": true,
            "type": "pie"
           }
          ],
          "scatter": [
           {
            "fillpattern": {
             "fillmode": "overlay",
             "size": 10,
             "solidity": 0.2
            },
            "type": "scatter"
           }
          ],
          "scatter3d": [
           {
            "line": {
             "colorbar": {
              "outlinewidth": 0,
              "ticks": ""
             }
            },
            "marker": {
             "colorbar": {
              "outlinewidth": 0,
              "ticks": ""
             }
            },
            "type": "scatter3d"
           }
          ],
          "scattercarpet": [
           {
            "marker": {
             "colorbar": {
              "outlinewidth": 0,
              "ticks": ""
             }
            },
            "type": "scattercarpet"
           }
          ],
          "scattergeo": [
           {
            "marker": {
             "colorbar": {
              "outlinewidth": 0,
              "ticks": ""
             }
            },
            "type": "scattergeo"
           }
          ],
          "scattergl": [
           {
            "marker": {
             "colorbar": {
              "outlinewidth": 0,
              "ticks": ""
             }
            },
            "type": "scattergl"
           }
          ],
          "scattermapbox": [
           {
            "marker": {
             "colorbar": {
              "outlinewidth": 0,
              "ticks": ""
             }
            },
            "type": "scattermapbox"
           }
          ],
          "scatterpolar": [
           {
            "marker": {
             "colorbar": {
              "outlinewidth": 0,
              "ticks": ""
             }
            },
            "type": "scatterpolar"
           }
          ],
          "scatterpolargl": [
           {
            "marker": {
             "colorbar": {
              "outlinewidth": 0,
              "ticks": ""
             }
            },
            "type": "scatterpolargl"
           }
          ],
          "scatterternary": [
           {
            "marker": {
             "colorbar": {
              "outlinewidth": 0,
              "ticks": ""
             }
            },
            "type": "scatterternary"
           }
          ],
          "surface": [
           {
            "colorbar": {
             "outlinewidth": 0,
             "ticks": ""
            },
            "colorscale": [
             [
              0,
              "#0d0887"
             ],
             [
              0.1111111111111111,
              "#46039f"
             ],
             [
              0.2222222222222222,
              "#7201a8"
             ],
             [
              0.3333333333333333,
              "#9c179e"
             ],
             [
              0.4444444444444444,
              "#bd3786"
             ],
             [
              0.5555555555555556,
              "#d8576b"
             ],
             [
              0.6666666666666666,
              "#ed7953"
             ],
             [
              0.7777777777777778,
              "#fb9f3a"
             ],
             [
              0.8888888888888888,
              "#fdca26"
             ],
             [
              1,
              "#f0f921"
             ]
            ],
            "type": "surface"
           }
          ],
          "table": [
           {
            "cells": {
             "fill": {
              "color": "#EBF0F8"
             },
             "line": {
              "color": "white"
             }
            },
            "header": {
             "fill": {
              "color": "#C8D4E3"
             },
             "line": {
              "color": "white"
             }
            },
            "type": "table"
           }
          ]
         },
         "layout": {
          "annotationdefaults": {
           "arrowcolor": "#2a3f5f",
           "arrowhead": 0,
           "arrowwidth": 1
          },
          "autotypenumbers": "strict",
          "coloraxis": {
           "colorbar": {
            "outlinewidth": 0,
            "ticks": ""
           }
          },
          "colorscale": {
           "diverging": [
            [
             0,
             "#8e0152"
            ],
            [
             0.1,
             "#c51b7d"
            ],
            [
             0.2,
             "#de77ae"
            ],
            [
             0.3,
             "#f1b6da"
            ],
            [
             0.4,
             "#fde0ef"
            ],
            [
             0.5,
             "#f7f7f7"
            ],
            [
             0.6,
             "#e6f5d0"
            ],
            [
             0.7,
             "#b8e186"
            ],
            [
             0.8,
             "#7fbc41"
            ],
            [
             0.9,
             "#4d9221"
            ],
            [
             1,
             "#276419"
            ]
           ],
           "sequential": [
            [
             0,
             "#0d0887"
            ],
            [
             0.1111111111111111,
             "#46039f"
            ],
            [
             0.2222222222222222,
             "#7201a8"
            ],
            [
             0.3333333333333333,
             "#9c179e"
            ],
            [
             0.4444444444444444,
             "#bd3786"
            ],
            [
             0.5555555555555556,
             "#d8576b"
            ],
            [
             0.6666666666666666,
             "#ed7953"
            ],
            [
             0.7777777777777778,
             "#fb9f3a"
            ],
            [
             0.8888888888888888,
             "#fdca26"
            ],
            [
             1,
             "#f0f921"
            ]
           ],
           "sequentialminus": [
            [
             0,
             "#0d0887"
            ],
            [
             0.1111111111111111,
             "#46039f"
            ],
            [
             0.2222222222222222,
             "#7201a8"
            ],
            [
             0.3333333333333333,
             "#9c179e"
            ],
            [
             0.4444444444444444,
             "#bd3786"
            ],
            [
             0.5555555555555556,
             "#d8576b"
            ],
            [
             0.6666666666666666,
             "#ed7953"
            ],
            [
             0.7777777777777778,
             "#fb9f3a"
            ],
            [
             0.8888888888888888,
             "#fdca26"
            ],
            [
             1,
             "#f0f921"
            ]
           ]
          },
          "colorway": [
           "#636efa",
           "#EF553B",
           "#00cc96",
           "#ab63fa",
           "#FFA15A",
           "#19d3f3",
           "#FF6692",
           "#B6E880",
           "#FF97FF",
           "#FECB52"
          ],
          "font": {
           "color": "#2a3f5f"
          },
          "geo": {
           "bgcolor": "white",
           "lakecolor": "white",
           "landcolor": "#E5ECF6",
           "showlakes": true,
           "showland": true,
           "subunitcolor": "white"
          },
          "hoverlabel": {
           "align": "left"
          },
          "hovermode": "closest",
          "mapbox": {
           "style": "light"
          },
          "paper_bgcolor": "white",
          "plot_bgcolor": "#E5ECF6",
          "polar": {
           "angularaxis": {
            "gridcolor": "white",
            "linecolor": "white",
            "ticks": ""
           },
           "bgcolor": "#E5ECF6",
           "radialaxis": {
            "gridcolor": "white",
            "linecolor": "white",
            "ticks": ""
           }
          },
          "scene": {
           "xaxis": {
            "backgroundcolor": "#E5ECF6",
            "gridcolor": "white",
            "gridwidth": 2,
            "linecolor": "white",
            "showbackground": true,
            "ticks": "",
            "zerolinecolor": "white"
           },
           "yaxis": {
            "backgroundcolor": "#E5ECF6",
            "gridcolor": "white",
            "gridwidth": 2,
            "linecolor": "white",
            "showbackground": true,
            "ticks": "",
            "zerolinecolor": "white"
           },
           "zaxis": {
            "backgroundcolor": "#E5ECF6",
            "gridcolor": "white",
            "gridwidth": 2,
            "linecolor": "white",
            "showbackground": true,
            "ticks": "",
            "zerolinecolor": "white"
           }
          },
          "shapedefaults": {
           "line": {
            "color": "#2a3f5f"
           }
          },
          "ternary": {
           "aaxis": {
            "gridcolor": "white",
            "linecolor": "white",
            "ticks": ""
           },
           "baxis": {
            "gridcolor": "white",
            "linecolor": "white",
            "ticks": ""
           },
           "bgcolor": "#E5ECF6",
           "caxis": {
            "gridcolor": "white",
            "linecolor": "white",
            "ticks": ""
           }
          },
          "title": {
           "x": 0.05
          },
          "xaxis": {
           "automargin": true,
           "gridcolor": "white",
           "linecolor": "white",
           "ticks": "",
           "title": {
            "standoff": 15
           },
           "zerolinecolor": "white",
           "zerolinewidth": 2
          },
          "yaxis": {
           "automargin": true,
           "gridcolor": "white",
           "linecolor": "white",
           "ticks": "",
           "title": {
            "standoff": 15
           },
           "zerolinecolor": "white",
           "zerolinewidth": 2
          }
         }
        },
        "title": {
         "text": "Time to Resolve Distribution"
        },
        "xaxis": {
         "anchor": "y",
         "domain": [
          0,
          1
         ],
         "title": {
          "text": "time_to_resolve_hours"
         }
        },
        "yaxis": {
         "anchor": "x",
         "domain": [
          0,
          1
         ],
         "title": {
          "text": "count"
         }
        }
       }
      }
     },
     "metadata": {},
     "output_type": "display_data"
    }
   ],
   "source": [
    "\n",
    "fig = px.histogram(non_active, x='time_to_resolve_hours', nbins=500, title='Time to Resolve Distribution')\n",
    "\n",
    "# Show the plot\n",
    "fig.show()\n"
   ]
  },
  {
   "cell_type": "code",
   "execution_count": null,
   "metadata": {},
   "outputs": [],
   "source": []
  },
  {
   "cell_type": "code",
   "execution_count": null,
   "metadata": {},
   "outputs": [],
   "source": []
  },
  {
   "cell_type": "markdown",
   "metadata": {},
   "source": [
    "## github code"
   ]
  },
  {
   "cell_type": "markdown",
   "metadata": {},
   "source": [
    "Here is the distribution of different state of incidents in the data"
   ]
  },
  {
   "cell_type": "code",
   "execution_count": 177,
   "metadata": {},
   "outputs": [
    {
     "data": {
      "image/png": "[encoded data removed]",
      "text/plain": [
       "<matplotlib.figure.Figure at 0x1f7b3a933c8>"
      ]
     },
     "metadata": {},
     "output_type": "display_data"
    },
    {
     "data": {
      "text/plain": [
       "Active                38716\n",
       "New                   36407\n",
       "Resolved              25751\n",
       "Closed                24985\n",
       "Awaiting User Info    14642\n",
       "Awaiting Vendor         707\n",
       "Awaiting Problem        461\n",
       "Awaiting Evidence        38\n",
       "-100                      5\n",
       "Name: incident_state, dtype: int64"
      ]
     },
     "execution_count": 177,
     "metadata": {},
     "output_type": "execute_result"
    }
   ],
   "source": [
    "df.groupby('incident_state') \\\n",
    "    .count()['number'] \\\n",
    "    .plot(kind='barh',\n",
    "          title='Distribution of incident_state',\n",
    "          figsize=(15, 3))\n",
    "plt.show()\n",
    "df['incident_state'].value_counts()"
   ]
  },
  {
   "cell_type": "markdown",
   "metadata": {},
   "source": [
    "Filtering out only closed incidents for our analysis as the incident can be in other state for multiple time and closed will be the final state which will give us the unique incident."
   ]
  },
  {
   "cell_type": "code",
   "execution_count": 178,
   "metadata": {},
   "outputs": [],
   "source": [
    "df_closed = df[\"incident_state\"] == \"Closed\"\n",
    "df_closed = df[df_closed]"
   ]
  },
  {
   "cell_type": "markdown",
   "metadata": {},
   "source": [
    "Let us see the data types of each variable, only three variables are numeric rest are charatcer and bool."
   ]
  },
  {
   "cell_type": "code",
   "execution_count": 179,
   "metadata": {},
   "outputs": [
    {
     "data": {
      "text/plain": [
       "number                     object\n",
       "incident_state             object\n",
       "active                       bool\n",
       "reassignment_count          int64\n",
       "reopen_count                int64\n",
       "sys_mod_count               int64\n",
       "made_sla                     bool\n",
       "caller_id                  object\n",
       "opened_by                  object\n",
       "opened_at                  object\n",
       "sys_created_by             object\n",
       "sys_created_at             object\n",
       "sys_updated_by             object\n",
       "sys_updated_at             object\n",
       "contact_type               object\n",
       "location                   object\n",
       "category                   object\n",
       "subcategory                object\n",
       "u_symptom                  object\n",
       "cmdb_ci                    object\n",
       "impact                     object\n",
       "urgency                    object\n",
       "priority                   object\n",
       "assignment_group           object\n",
       "assigned_to                object\n",
       "knowledge                    bool\n",
       "u_priority_confirmation      bool\n",
       "notify                     object\n",
       "problem_id                 object\n",
       "rfc                        object\n",
       "vendor                     object\n",
       "caused_by                  object\n",
       "closed_code                object\n",
       "resolved_by                object\n",
       "resolved_at                object\n",
       "closed_at                  object\n",
       "dtype: object"
      ]
     },
     "execution_count": 179,
     "metadata": {},
     "output_type": "execute_result"
    }
   ],
   "source": [
    "df_closed.dtypes "
   ]
  },
  {
   "cell_type": "markdown",
   "metadata": {},
   "source": [
    "Let us see the stats of numeric variables"
   ]
  },
  {
   "cell_type": "code",
   "execution_count": 180,
   "metadata": {},
   "outputs": [
    {
     "data": {
      "text/html": [
       "<div>\n",
       "<style scoped>\n",
       "    .dataframe tbody tr th:only-of-type {\n",
       "        vertical-align: middle;\n",
       "    }\n",
       "\n",
       "    .dataframe tbody tr th {\n",
       "        vertical-align: top;\n",
       "    }\n",
       "\n",
       "    .dataframe thead th {\n",
       "        text-align: right;\n",
       "    }\n",
       "</style>\n",
       "<table border=\"1\" class=\"dataframe\">\n",
       "  <thead>\n",
       "    <tr style=\"text-align: right;\">\n",
       "      <th></th>\n",
       "      <th>reassignment_count</th>\n",
       "      <th>reopen_count</th>\n",
       "      <th>sys_mod_count</th>\n",
       "    </tr>\n",
       "  </thead>\n",
       "  <tbody>\n",
       "    <tr>\n",
       "      <th>count</th>\n",
       "      <td>24985.000000</td>\n",
       "      <td>24985.000000</td>\n",
       "      <td>24985.000000</td>\n",
       "    </tr>\n",
       "    <tr>\n",
       "      <th>mean</th>\n",
       "      <td>0.941765</td>\n",
       "      <td>0.013368</td>\n",
       "      <td>6.694417</td>\n",
       "    </tr>\n",
       "    <tr>\n",
       "      <th>std</th>\n",
       "      <td>1.573962</td>\n",
       "      <td>0.149116</td>\n",
       "      <td>8.548757</td>\n",
       "    </tr>\n",
       "    <tr>\n",
       "      <th>min</th>\n",
       "      <td>0.000000</td>\n",
       "      <td>0.000000</td>\n",
       "      <td>1.000000</td>\n",
       "    </tr>\n",
       "    <tr>\n",
       "      <th>25%</th>\n",
       "      <td>0.000000</td>\n",
       "      <td>0.000000</td>\n",
       "      <td>2.000000</td>\n",
       "    </tr>\n",
       "    <tr>\n",
       "      <th>50%</th>\n",
       "      <td>0.000000</td>\n",
       "      <td>0.000000</td>\n",
       "      <td>4.000000</td>\n",
       "    </tr>\n",
       "    <tr>\n",
       "      <th>75%</th>\n",
       "      <td>1.000000</td>\n",
       "      <td>0.000000</td>\n",
       "      <td>8.000000</td>\n",
       "    </tr>\n",
       "    <tr>\n",
       "      <th>max</th>\n",
       "      <td>27.000000</td>\n",
       "      <td>8.000000</td>\n",
       "      <td>129.000000</td>\n",
       "    </tr>\n",
       "  </tbody>\n",
       "</table>\n",
       "</div>"
      ],
      "text/plain": [
       "       reassignment_count  reopen_count  sys_mod_count\n",
       "count        24985.000000  24985.000000   24985.000000\n",
       "mean             0.941765      0.013368       6.694417\n",
       "std              1.573962      0.149116       8.548757\n",
       "min              0.000000      0.000000       1.000000\n",
       "25%              0.000000      0.000000       2.000000\n",
       "50%              0.000000      0.000000       4.000000\n",
       "75%              1.000000      0.000000       8.000000\n",
       "max             27.000000      8.000000     129.000000"
      ]
     },
     "execution_count": 180,
     "metadata": {},
     "output_type": "execute_result"
    }
   ],
   "source": [
    "df_closed.describe()"
   ]
  },
  {
   "cell_type": "markdown",
   "metadata": {},
   "source": [
    "## Question 1 - What types of incidents are getting reopened?"
   ]
  },
  {
   "cell_type": "markdown",
   "metadata": {},
   "source": [
    "Incidents are reassigned and reopend sometimes, maximum reassigment is 27 whereas there are incidents which are reopened 8 times.Let us first see that with what close codes incidents are getting closed"
   ]
  },
  {
   "cell_type": "code",
   "execution_count": 181,
   "metadata": {},
   "outputs": [
    {
     "data": {
      "image/png": "[encoded data removed]",
      "text/plain": [
       "<matplotlib.figure.Figure at 0x1f7b4444f98>"
      ]
     },
     "metadata": {},
     "output_type": "display_data"
    },
    {
     "data": {
      "text/plain": [
       "code 6     86583\n",
       "code 7     20733\n",
       "code 9     13562\n",
       "code 8      5646\n",
       "code 5      4469\n",
       "code 1      3265\n",
       "code 10     1678\n",
       "code 11     1493\n",
       "code 4      1139\n",
       "code 16     1091\n",
       "?            714\n",
       "code 3       608\n",
       "code 2       349\n",
       "code 15      183\n",
       "code 17      115\n",
       "code 13       59\n",
       "code 12       13\n",
       "code 14       12\n",
       "Name: closed_code, dtype: int64"
      ]
     },
     "execution_count": 181,
     "metadata": {},
     "output_type": "execute_result"
    }
   ],
   "source": [
    "df.groupby('closed_code') \\\n",
    "    .count()['number'] \\\n",
    "    .plot(kind='barh',\n",
    "          title='Distribution of closed_code',\n",
    "          figsize=(15, 3))\n",
    "plt.show()\n",
    "df['closed_code'].value_counts()"
   ]
  },
  {
   "cell_type": "markdown",
   "metadata": {},
   "source": [
    "Close code 6,7,8,9 are the major ones with which the incidents are getting closed.Now let us check if that happens for the ones which are getting reopened or it is different?"
   ]
  },
  {
   "cell_type": "code",
   "execution_count": 182,
   "metadata": {},
   "outputs": [],
   "source": [
    "df_closed_reo = df_closed[\"reopen_count\"] > 0\n",
    "df_closed_reo = df_closed[df_closed_reo]"
   ]
  },
  {
   "cell_type": "code",
   "execution_count": 183,
   "metadata": {},
   "outputs": [
    {
     "data": {
      "image/png": "[encoded data removed]",
      "text/plain": [
       "<matplotlib.figure.Figure at 0x1f7b4b48908>"
      ]
     },
     "metadata": {},
     "output_type": "display_data"
    },
    {
     "data": {
      "text/plain": [
       "code 6     170\n",
       "code 7      28\n",
       "code 9      27\n",
       "code 1      11\n",
       "code 8      10\n",
       "code 4       9\n",
       "code 5       8\n",
       "code 16      5\n",
       "code 2       3\n",
       "code 11      2\n",
       "code 10      2\n",
       "code 3       2\n",
       "?            1\n",
       "Name: closed_code, dtype: int64"
      ]
     },
     "execution_count": 183,
     "metadata": {},
     "output_type": "execute_result"
    }
   ],
   "source": [
    "df_closed_reo.groupby('closed_code') \\\n",
    "    .count()['number'] \\\n",
    "    .plot(kind='barh',\n",
    "          title='Distribution of closed_code',\n",
    "          figsize=(15, 3))\n",
    "plt.show()\n",
    "df_closed_reo['closed_code'].value_counts()"
   ]
  },
  {
   "cell_type": "markdown",
   "metadata": {},
   "source": [
    "We can see the close code are similar for reopened tickets but we see that there are other close codes too which are ending as reason to close the reopened tickets. Let us now see if these reopened has any pattern with SLA."
   ]
  },
  {
   "cell_type": "code",
   "execution_count": 184,
   "metadata": {},
   "outputs": [
    {
     "data": {
      "text/plain": [
       "True     15831\n",
       "False     9154\n",
       "Name: made_sla, dtype: int64"
      ]
     },
     "execution_count": 184,
     "metadata": {},
     "output_type": "execute_result"
    }
   ],
   "source": [
    "df_closed['made_sla'].value_counts()"
   ]
  },
  {
   "cell_type": "code",
   "execution_count": 185,
   "metadata": {},
   "outputs": [
    {
     "data": {
      "text/plain": [
       "False    210\n",
       "True      68\n",
       "Name: made_sla, dtype: int64"
      ]
     },
     "execution_count": 185,
     "metadata": {},
     "output_type": "execute_result"
    }
   ],
   "source": [
    "df_closed_reo['made_sla'].value_counts()"
   ]
  },
  {
   "cell_type": "markdown",
   "metadata": {},
   "source": [
    "We can see here that SLAs are missed in most of the reopened incidents so if the tickets are getting reopened then there is high chance that SLAs will be missed."
   ]
  },
  {
   "cell_type": "markdown",
   "metadata": {},
   "source": [
    "Let us now examine if there are different symptoms for reopened incidents."
   ]
  },
  {
   "cell_type": "code",
   "execution_count": 186,
   "metadata": {},
   "outputs": [
    {
     "data": {
      "text/plain": [
       "Symptom 491    9272\n",
       "?              5856\n",
       "Symptom 534    1670\n",
       "Symptom 116     485\n",
       "Symptom 387     426\n",
       "Symptom 4       375\n",
       "Symptom 506     355\n",
       "Symptom 532     353\n",
       "Symptom 571     282\n",
       "Symptom 296     207\n",
       "Symptom 105     200\n",
       "Symptom 118     195\n",
       "Symptom 208     173\n",
       "Symptom 470     165\n",
       "Symptom 10      158\n",
       "Symptom 295     154\n",
       "Symptom 120     150\n",
       "Symptom 517     142\n",
       "Symptom 102     141\n",
       "Symptom 127     136\n",
       "Symptom 54      135\n",
       "Symptom 87      129\n",
       "Symptom 458     125\n",
       "Symptom 494     123\n",
       "Symptom 6        94\n",
       "Symptom 70       93\n",
       "Symptom 117      87\n",
       "Symptom 592      86\n",
       "Symptom 65       85\n",
       "Symptom 119      84\n",
       "               ... \n",
       "Symptom 362       1\n",
       "Symptom 207       1\n",
       "Symptom 309       1\n",
       "Symptom 545       1\n",
       "Symptom 330       1\n",
       "Symptom 210       1\n",
       "Symptom 179       1\n",
       "Symptom 29        1\n",
       "Symptom 400       1\n",
       "Symptom 450       1\n",
       "Symptom 275       1\n",
       "Symptom 314       1\n",
       "Symptom 73        1\n",
       "Symptom 204       1\n",
       "Symptom 327       1\n",
       "Symptom 496       1\n",
       "Symptom 555       1\n",
       "Symptom 542       1\n",
       "Symptom 12        1\n",
       "Symptom 238       1\n",
       "Symptom 428       1\n",
       "Symptom 353       1\n",
       "Symptom 124       1\n",
       "Symptom 551       1\n",
       "Symptom 322       1\n",
       "Symptom 165       1\n",
       "Symptom 449       1\n",
       "Symptom 302       1\n",
       "Symptom 326       1\n",
       "Symptom 156       1\n",
       "Name: u_symptom, Length: 398, dtype: int64"
      ]
     },
     "execution_count": 186,
     "metadata": {},
     "output_type": "execute_result"
    }
   ],
   "source": [
    "df_closed['u_symptom'].value_counts()"
   ]
  },
  {
   "cell_type": "code",
   "execution_count": 187,
   "metadata": {},
   "outputs": [
    {
     "data": {
      "text/plain": [
       "Symptom 491    104\n",
       "?               58\n",
       "Symptom 532     12\n",
       "Symptom 534      9\n",
       "Symptom 4        7\n",
       "Symptom 296      5\n",
       "Symptom 458      5\n",
       "Symptom 208      4\n",
       "Symptom 10       4\n",
       "Symptom 465      4\n",
       "Symptom 114      4\n",
       "Symptom 387      3\n",
       "Symptom 116      3\n",
       "Symptom 119      3\n",
       "Symptom 9        3\n",
       "Symptom 134      2\n",
       "Symptom 315      2\n",
       "Symptom 120      2\n",
       "Symptom 117      2\n",
       "Symptom 87       2\n",
       "Symptom 455      2\n",
       "Symptom 494      2\n",
       "Symptom 6        2\n",
       "Symptom 65       2\n",
       "Symptom 54       2\n",
       "Symptom 596      1\n",
       "Symptom 463      1\n",
       "Symptom 118      1\n",
       "Symptom 127      1\n",
       "Symptom 474      1\n",
       "Symptom 592      1\n",
       "Symptom 544      1\n",
       "Symptom 8        1\n",
       "Symptom 410      1\n",
       "Symptom 218      1\n",
       "Symptom 381      1\n",
       "Symptom 517      1\n",
       "Symptom 256      1\n",
       "Symptom 273      1\n",
       "Symptom 462      1\n",
       "Symptom 506      1\n",
       "Symptom 548      1\n",
       "Symptom 531      1\n",
       "Symptom 486      1\n",
       "Symptom 70       1\n",
       "Symptom 471      1\n",
       "Symptom 217      1\n",
       "Symptom 102      1\n",
       "Symptom 198      1\n",
       "Symptom 358      1\n",
       "Symptom 257      1\n",
       "Symptom 371      1\n",
       "Symptom 105      1\n",
       "Symptom 524      1\n",
       "Symptom 20       1\n",
       "Name: u_symptom, dtype: int64"
      ]
     },
     "execution_count": 187,
     "metadata": {},
     "output_type": "execute_result"
    }
   ],
   "source": [
    "df_closed_reo['u_symptom'].value_counts()"
   ]
  },
  {
   "cell_type": "markdown",
   "metadata": {},
   "source": [
    "Symptoms are also very similar to other incidents as for reopened so there is no clear pattern with close code and symptoms but we can see that incase of reopened incidents the SLAs get missed."
   ]
  },
  {
   "cell_type": "markdown",
   "metadata": {},
   "source": [
    "## Question 2 - What kind of incidents are missing the SLAs?"
   ]
  },
  {
   "cell_type": "markdown",
   "metadata": {},
   "source": [
    "Now as we see that reopened incidents are missing SLAs so now let us exmaine distribution of incidents which are missing SLAs"
   ]
  },
  {
   "cell_type": "code",
   "execution_count": 188,
   "metadata": {},
   "outputs": [
    {
     "data": {
      "image/png": "[encoded data removed]",
      "text/plain": [
       "<matplotlib.figure.Figure at 0x1f7aedd50b8>"
      ]
     },
     "metadata": {},
     "output_type": "display_data"
    },
    {
     "data": {
      "text/plain": [
       "True     15831\n",
       "False     9154\n",
       "Name: made_sla, dtype: int64"
      ]
     },
     "execution_count": 188,
     "metadata": {},
     "output_type": "execute_result"
    }
   ],
   "source": [
    "df_closed_reo.groupby('made_sla') \\\n",
    "    .count()['number'] \\\n",
    "    .plot(kind='barh',\n",
    "          title='Distribution of closed_code',\n",
    "          figsize=(15, 3))\n",
    "plt.show()\n",
    "df_closed['made_sla'].value_counts()"
   ]
  },
  {
   "cell_type": "markdown",
   "metadata": {},
   "source": [
    "Around 37% incidents are missing SLAs so now let us see what kind of incidents usually miss SLAs"
   ]
  },
  {
   "cell_type": "code",
   "execution_count": 189,
   "metadata": {},
   "outputs": [],
   "source": [
    "df_closed_sla = df_closed[\"made_sla\"] == 1\n",
    "df_closed_sla = df_closed[df_closed_sla]"
   ]
  },
  {
   "cell_type": "code",
   "execution_count": 190,
   "metadata": {},
   "outputs": [
    {
     "data": {
      "text/html": [
       "<div>\n",
       "<style scoped>\n",
       "    .dataframe tbody tr th:only-of-type {\n",
       "        vertical-align: middle;\n",
       "    }\n",
       "\n",
       "    .dataframe tbody tr th {\n",
       "        vertical-align: top;\n",
       "    }\n",
       "\n",
       "    .dataframe thead th {\n",
       "        text-align: right;\n",
       "    }\n",
       "</style>\n",
       "<table border=\"1\" class=\"dataframe\">\n",
       "  <thead>\n",
       "    <tr style=\"text-align: right;\">\n",
       "      <th>priority</th>\n",
       "      <th>1 - Critical</th>\n",
       "      <th>2 - High</th>\n",
       "      <th>3 - Moderate</th>\n",
       "      <th>4 - Low</th>\n",
       "    </tr>\n",
       "    <tr>\n",
       "      <th>made_sla</th>\n",
       "      <th></th>\n",
       "      <th></th>\n",
       "      <th></th>\n",
       "      <th></th>\n",
       "    </tr>\n",
       "  </thead>\n",
       "  <tbody>\n",
       "    <tr>\n",
       "      <th>False</th>\n",
       "      <td>265</td>\n",
       "      <td>406</td>\n",
       "      <td>8358</td>\n",
       "      <td>125</td>\n",
       "    </tr>\n",
       "    <tr>\n",
       "      <th>True</th>\n",
       "      <td>6</td>\n",
       "      <td>2</td>\n",
       "      <td>15171</td>\n",
       "      <td>652</td>\n",
       "    </tr>\n",
       "  </tbody>\n",
       "</table>\n",
       "</div>"
      ],
      "text/plain": [
       "priority  1 - Critical  2 - High  3 - Moderate  4 - Low\n",
       "made_sla                                               \n",
       "False              265       406          8358      125\n",
       "True                 6         2         15171      652"
      ]
     },
     "execution_count": 190,
     "metadata": {},
     "output_type": "execute_result"
    }
   ],
   "source": [
    "pd.crosstab(df_closed['made_sla'],df_closed['priority'])"
   ]
  },
  {
   "cell_type": "markdown",
   "metadata": {},
   "source": [
    "There is very clear pattern that if SLAs mostly get missed for critical and high priortiy incidents whereas SLAs are met for Moderate and Low priortiy incidents."
   ]
  },
  {
   "cell_type": "markdown",
   "metadata": {},
   "source": [
    "## Question 3 - What features are important to predict the close code?"
   ]
  },
  {
   "cell_type": "markdown",
   "metadata": {},
   "source": [
    "Based on the given incident data, let us see which features can help us to predict the close code so that incidents can be assigned to relevant team based on the predicted close code. First let us filter out the relevant features"
   ]
  },
  {
   "cell_type": "code",
   "execution_count": 191,
   "metadata": {},
   "outputs": [],
   "source": [
    "df_closed_1 = df_closed.loc[:,['reassignment_count','reopen_count','sys_mod_count','made_sla','location','category','subcategory','u_symptom','priority','vendor']]"
   ]
  },
  {
   "cell_type": "markdown",
   "metadata": {},
   "source": [
    "As we have only categorical variables s0 for each of the categorical variables, we now need to create dummy columns."
   ]
  },
  {
   "cell_type": "code",
   "execution_count": 192,
   "metadata": {},
   "outputs": [],
   "source": [
    "df_closed_dummy = pd.get_dummies(df_closed_1)"
   ]
  },
  {
   "cell_type": "code",
   "execution_count": 193,
   "metadata": {},
   "outputs": [
    {
     "data": {
      "text/html": [
       "<div>\n",
       "<style scoped>\n",
       "    .dataframe tbody tr th:only-of-type {\n",
       "        vertical-align: middle;\n",
       "    }\n",
       "\n",
       "    .dataframe tbody tr th {\n",
       "        vertical-align: top;\n",
       "    }\n",
       "\n",
       "    .dataframe thead th {\n",
       "        text-align: right;\n",
       "    }\n",
       "</style>\n",
       "<table border=\"1\" class=\"dataframe\">\n",
       "  <thead>\n",
       "    <tr style=\"text-align: right;\">\n",
       "      <th></th>\n",
       "      <th>reassignment_count</th>\n",
       "      <th>reopen_count</th>\n",
       "      <th>sys_mod_count</th>\n",
       "      <th>made_sla</th>\n",
       "      <th>location_?</th>\n",
       "      <th>location_Location 10</th>\n",
       "      <th>location_Location 100</th>\n",
       "      <th>location_Location 101</th>\n",
       "      <th>location_Location 102</th>\n",
       "      <th>location_Location 105</th>\n",
       "      <th>...</th>\n",
       "      <th>u_symptom_Symptom 96</th>\n",
       "      <th>u_symptom_Symptom 97</th>\n",
       "      <th>u_symptom_Symptom 99</th>\n",
       "      <th>priority_1 - Critical</th>\n",
       "      <th>priority_2 - High</th>\n",
       "      <th>priority_3 - Moderate</th>\n",
       "      <th>priority_4 - Low</th>\n",
       "      <th>vendor_?</th>\n",
       "      <th>vendor_Vendor 1</th>\n",
       "      <th>vendor_code 8s</th>\n",
       "    </tr>\n",
       "  </thead>\n",
       "  <tbody>\n",
       "    <tr>\n",
       "      <th>3</th>\n",
       "      <td>0</td>\n",
       "      <td>0</td>\n",
       "      <td>4</td>\n",
       "      <td>True</td>\n",
       "      <td>0</td>\n",
       "      <td>0</td>\n",
       "      <td>0</td>\n",
       "      <td>0</td>\n",
       "      <td>0</td>\n",
       "      <td>0</td>\n",
       "      <td>...</td>\n",
       "      <td>0</td>\n",
       "      <td>0</td>\n",
       "      <td>0</td>\n",
       "      <td>0</td>\n",
       "      <td>0</td>\n",
       "      <td>1</td>\n",
       "      <td>0</td>\n",
       "      <td>1</td>\n",
       "      <td>0</td>\n",
       "      <td>0</td>\n",
       "    </tr>\n",
       "    <tr>\n",
       "      <th>12</th>\n",
       "      <td>1</td>\n",
       "      <td>0</td>\n",
       "      <td>8</td>\n",
       "      <td>True</td>\n",
       "      <td>0</td>\n",
       "      <td>0</td>\n",
       "      <td>0</td>\n",
       "      <td>0</td>\n",
       "      <td>0</td>\n",
       "      <td>0</td>\n",
       "      <td>...</td>\n",
       "      <td>0</td>\n",
       "      <td>0</td>\n",
       "      <td>0</td>\n",
       "      <td>0</td>\n",
       "      <td>0</td>\n",
       "      <td>1</td>\n",
       "      <td>0</td>\n",
       "      <td>1</td>\n",
       "      <td>0</td>\n",
       "      <td>0</td>\n",
       "    </tr>\n",
       "    <tr>\n",
       "      <th>19</th>\n",
       "      <td>0</td>\n",
       "      <td>0</td>\n",
       "      <td>6</td>\n",
       "      <td>True</td>\n",
       "      <td>0</td>\n",
       "      <td>0</td>\n",
       "      <td>0</td>\n",
       "      <td>0</td>\n",
       "      <td>0</td>\n",
       "      <td>0</td>\n",
       "      <td>...</td>\n",
       "      <td>0</td>\n",
       "      <td>0</td>\n",
       "      <td>0</td>\n",
       "      <td>0</td>\n",
       "      <td>0</td>\n",
       "      <td>1</td>\n",
       "      <td>0</td>\n",
       "      <td>1</td>\n",
       "      <td>0</td>\n",
       "      <td>0</td>\n",
       "    </tr>\n",
       "    <tr>\n",
       "      <th>23</th>\n",
       "      <td>0</td>\n",
       "      <td>0</td>\n",
       "      <td>3</td>\n",
       "      <td>True</td>\n",
       "      <td>0</td>\n",
       "      <td>0</td>\n",
       "      <td>0</td>\n",
       "      <td>0</td>\n",
       "      <td>0</td>\n",
       "      <td>0</td>\n",
       "      <td>...</td>\n",
       "      <td>0</td>\n",
       "      <td>0</td>\n",
       "      <td>0</td>\n",
       "      <td>0</td>\n",
       "      <td>0</td>\n",
       "      <td>1</td>\n",
       "      <td>0</td>\n",
       "      <td>1</td>\n",
       "      <td>0</td>\n",
       "      <td>0</td>\n",
       "    </tr>\n",
       "    <tr>\n",
       "      <th>31</th>\n",
       "      <td>1</td>\n",
       "      <td>0</td>\n",
       "      <td>7</td>\n",
       "      <td>False</td>\n",
       "      <td>0</td>\n",
       "      <td>0</td>\n",
       "      <td>0</td>\n",
       "      <td>0</td>\n",
       "      <td>0</td>\n",
       "      <td>0</td>\n",
       "      <td>...</td>\n",
       "      <td>0</td>\n",
       "      <td>0</td>\n",
       "      <td>0</td>\n",
       "      <td>0</td>\n",
       "      <td>1</td>\n",
       "      <td>0</td>\n",
       "      <td>0</td>\n",
       "      <td>1</td>\n",
       "      <td>0</td>\n",
       "      <td>0</td>\n",
       "    </tr>\n",
       "  </tbody>\n",
       "</table>\n",
       "<p>5 rows × 934 columns</p>\n",
       "</div>"
      ],
      "text/plain": [
       "    reassignment_count  reopen_count  sys_mod_count  made_sla  location_?  \\\n",
       "3                    0             0              4      True           0   \n",
       "12                   1             0              8      True           0   \n",
       "19                   0             0              6      True           0   \n",
       "23                   0             0              3      True           0   \n",
       "31                   1             0              7     False           0   \n",
       "\n",
       "    location_Location 10  location_Location 100  location_Location 101  \\\n",
       "3                      0                      0                      0   \n",
       "12                     0                      0                      0   \n",
       "19                     0                      0                      0   \n",
       "23                     0                      0                      0   \n",
       "31                     0                      0                      0   \n",
       "\n",
       "    location_Location 102  location_Location 105       ...        \\\n",
       "3                       0                      0       ...         \n",
       "12                      0                      0       ...         \n",
       "19                      0                      0       ...         \n",
       "23                      0                      0       ...         \n",
       "31                      0                      0       ...         \n",
       "\n",
       "    u_symptom_Symptom 96  u_symptom_Symptom 97  u_symptom_Symptom 99  \\\n",
       "3                      0                     0                     0   \n",
       "12                     0                     0                     0   \n",
       "19                     0                     0                     0   \n",
       "23                     0                     0                     0   \n",
       "31                     0                     0                     0   \n",
       "\n",
       "    priority_1 - Critical  priority_2 - High  priority_3 - Moderate  \\\n",
       "3                       0                  0                      1   \n",
       "12                      0                  0                      1   \n",
       "19                      0                  0                      1   \n",
       "23                      0                  0                      1   \n",
       "31                      0                  1                      0   \n",
       "\n",
       "    priority_4 - Low  vendor_?  vendor_Vendor 1  vendor_code 8s  \n",
       "3                  0         1                0               0  \n",
       "12                 0         1                0               0  \n",
       "19                 0         1                0               0  \n",
       "23                 0         1                0               0  \n",
       "31                 0         1                0               0  \n",
       "\n",
       "[5 rows x 934 columns]"
      ]
     },
     "execution_count": 193,
     "metadata": {},
     "output_type": "execute_result"
    }
   ],
   "source": [
    "df_closed_dummy.head()"
   ]
  },
  {
   "cell_type": "code",
   "execution_count": 194,
   "metadata": {},
   "outputs": [],
   "source": [
    "df_closed_dummy['closed_code']= df_closed['closed_code']"
   ]
  },
  {
   "cell_type": "markdown",
   "metadata": {},
   "source": [
    "Let us Split into explanatory and response variables"
   ]
  },
  {
   "cell_type": "code",
   "execution_count": 195,
   "metadata": {},
   "outputs": [],
   "source": [
    "Y = df_closed_dummy['closed_code']\n",
    "X = df_closed_dummy.drop(columns=['closed_code'])"
   ]
  },
  {
   "cell_type": "code",
   "execution_count": 196,
   "metadata": {},
   "outputs": [
    {
     "data": {
      "text/html": [
       "<div>\n",
       "<style scoped>\n",
       "    .dataframe tbody tr th:only-of-type {\n",
       "        vertical-align: middle;\n",
       "    }\n",
       "\n",
       "    .dataframe tbody tr th {\n",
       "        vertical-align: top;\n",
       "    }\n",
       "\n",
       "    .dataframe thead th {\n",
       "        text-align: right;\n",
       "    }\n",
       "</style>\n",
       "<table border=\"1\" class=\"dataframe\">\n",
       "  <thead>\n",
       "    <tr style=\"text-align: right;\">\n",
       "      <th></th>\n",
       "      <th>reassignment_count</th>\n",
       "      <th>reopen_count</th>\n",
       "      <th>sys_mod_count</th>\n",
       "      <th>made_sla</th>\n",
       "      <th>location_?</th>\n",
       "      <th>location_Location 10</th>\n",
       "      <th>location_Location 100</th>\n",
       "      <th>location_Location 101</th>\n",
       "      <th>location_Location 102</th>\n",
       "      <th>location_Location 105</th>\n",
       "      <th>...</th>\n",
       "      <th>u_symptom_Symptom 96</th>\n",
       "      <th>u_symptom_Symptom 97</th>\n",
       "      <th>u_symptom_Symptom 99</th>\n",
       "      <th>priority_1 - Critical</th>\n",
       "      <th>priority_2 - High</th>\n",
       "      <th>priority_3 - Moderate</th>\n",
       "      <th>priority_4 - Low</th>\n",
       "      <th>vendor_?</th>\n",
       "      <th>vendor_Vendor 1</th>\n",
       "      <th>vendor_code 8s</th>\n",
       "    </tr>\n",
       "  </thead>\n",
       "  <tbody>\n",
       "    <tr>\n",
       "      <th>3</th>\n",
       "      <td>0</td>\n",
       "      <td>0</td>\n",
       "      <td>4</td>\n",
       "      <td>True</td>\n",
       "      <td>0</td>\n",
       "      <td>0</td>\n",
       "      <td>0</td>\n",
       "      <td>0</td>\n",
       "      <td>0</td>\n",
       "      <td>0</td>\n",
       "      <td>...</td>\n",
       "      <td>0</td>\n",
       "      <td>0</td>\n",
       "      <td>0</td>\n",
       "      <td>0</td>\n",
       "      <td>0</td>\n",
       "      <td>1</td>\n",
       "      <td>0</td>\n",
       "      <td>1</td>\n",
       "      <td>0</td>\n",
       "      <td>0</td>\n",
       "    </tr>\n",
       "    <tr>\n",
       "      <th>12</th>\n",
       "      <td>1</td>\n",
       "      <td>0</td>\n",
       "      <td>8</td>\n",
       "      <td>True</td>\n",
       "      <td>0</td>\n",
       "      <td>0</td>\n",
       "      <td>0</td>\n",
       "      <td>0</td>\n",
       "      <td>0</td>\n",
       "      <td>0</td>\n",
       "      <td>...</td>\n",
       "      <td>0</td>\n",
       "      <td>0</td>\n",
       "      <td>0</td>\n",
       "      <td>0</td>\n",
       "      <td>0</td>\n",
       "      <td>1</td>\n",
       "      <td>0</td>\n",
       "      <td>1</td>\n",
       "      <td>0</td>\n",
       "      <td>0</td>\n",
       "    </tr>\n",
       "    <tr>\n",
       "      <th>19</th>\n",
       "      <td>0</td>\n",
       "      <td>0</td>\n",
       "      <td>6</td>\n",
       "      <td>True</td>\n",
       "      <td>0</td>\n",
       "      <td>0</td>\n",
       "      <td>0</td>\n",
       "      <td>0</td>\n",
       "      <td>0</td>\n",
       "      <td>0</td>\n",
       "      <td>...</td>\n",
       "      <td>0</td>\n",
       "      <td>0</td>\n",
       "      <td>0</td>\n",
       "      <td>0</td>\n",
       "      <td>0</td>\n",
       "      <td>1</td>\n",
       "      <td>0</td>\n",
       "      <td>1</td>\n",
       "      <td>0</td>\n",
       "      <td>0</td>\n",
       "    </tr>\n",
       "    <tr>\n",
       "      <th>23</th>\n",
       "      <td>0</td>\n",
       "      <td>0</td>\n",
       "      <td>3</td>\n",
       "      <td>True</td>\n",
       "      <td>0</td>\n",
       "      <td>0</td>\n",
       "      <td>0</td>\n",
       "      <td>0</td>\n",
       "      <td>0</td>\n",
       "      <td>0</td>\n",
       "      <td>...</td>\n",
       "      <td>0</td>\n",
       "      <td>0</td>\n",
       "      <td>0</td>\n",
       "      <td>0</td>\n",
       "      <td>0</td>\n",
       "      <td>1</td>\n",
       "      <td>0</td>\n",
       "      <td>1</td>\n",
       "      <td>0</td>\n",
       "      <td>0</td>\n",
       "    </tr>\n",
       "    <tr>\n",
       "      <th>31</th>\n",
       "      <td>1</td>\n",
       "      <td>0</td>\n",
       "      <td>7</td>\n",
       "      <td>False</td>\n",
       "      <td>0</td>\n",
       "      <td>0</td>\n",
       "      <td>0</td>\n",
       "      <td>0</td>\n",
       "      <td>0</td>\n",
       "      <td>0</td>\n",
       "      <td>...</td>\n",
       "      <td>0</td>\n",
       "      <td>0</td>\n",
       "      <td>0</td>\n",
       "      <td>0</td>\n",
       "      <td>1</td>\n",
       "      <td>0</td>\n",
       "      <td>0</td>\n",
       "      <td>1</td>\n",
       "      <td>0</td>\n",
       "      <td>0</td>\n",
       "    </tr>\n",
       "  </tbody>\n",
       "</table>\n",
       "<p>5 rows × 934 columns</p>\n",
       "</div>"
      ],
      "text/plain": [
       "    reassignment_count  reopen_count  sys_mod_count  made_sla  location_?  \\\n",
       "3                    0             0              4      True           0   \n",
       "12                   1             0              8      True           0   \n",
       "19                   0             0              6      True           0   \n",
       "23                   0             0              3      True           0   \n",
       "31                   1             0              7     False           0   \n",
       "\n",
       "    location_Location 10  location_Location 100  location_Location 101  \\\n",
       "3                      0                      0                      0   \n",
       "12                     0                      0                      0   \n",
       "19                     0                      0                      0   \n",
       "23                     0                      0                      0   \n",
       "31                     0                      0                      0   \n",
       "\n",
       "    location_Location 102  location_Location 105       ...        \\\n",
       "3                       0                      0       ...         \n",
       "12                      0                      0       ...         \n",
       "19                      0                      0       ...         \n",
       "23                      0                      0       ...         \n",
       "31                      0                      0       ...         \n",
       "\n",
       "    u_symptom_Symptom 96  u_symptom_Symptom 97  u_symptom_Symptom 99  \\\n",
       "3                      0                     0                     0   \n",
       "12                     0                     0                     0   \n",
       "19                     0                     0                     0   \n",
       "23                     0                     0                     0   \n",
       "31                     0                     0                     0   \n",
       "\n",
       "    priority_1 - Critical  priority_2 - High  priority_3 - Moderate  \\\n",
       "3                       0                  0                      1   \n",
       "12                      0                  0                      1   \n",
       "19                      0                  0                      1   \n",
       "23                      0                  0                      1   \n",
       "31                      0                  1                      0   \n",
       "\n",
       "    priority_4 - Low  vendor_?  vendor_Vendor 1  vendor_code 8s  \n",
       "3                  0         1                0               0  \n",
       "12                 0         1                0               0  \n",
       "19                 0         1                0               0  \n",
       "23                 0         1                0               0  \n",
       "31                 0         1                0               0  \n",
       "\n",
       "[5 rows x 934 columns]"
      ]
     },
     "execution_count": 196,
     "metadata": {},
     "output_type": "execute_result"
    }
   ],
   "source": [
    "X.head()"
   ]
  },
  {
   "cell_type": "markdown",
   "metadata": {},
   "source": [
    "We will fit random forest model to check which features are coming as important for predicting the close code."
   ]
  },
  {
   "cell_type": "code",
   "execution_count": 197,
   "metadata": {},
   "outputs": [
    {
     "data": {
      "text/plain": [
       "RandomForestClassifier(bootstrap=True, class_weight=None, criterion='gini',\n",
       "            max_depth=None, max_features='auto', max_leaf_nodes=None,\n",
       "            min_impurity_decrease=0.0, min_impurity_split=None,\n",
       "            min_samples_leaf=1, min_samples_split=2,\n",
       "            min_weight_fraction_leaf=0.0, n_estimators=200, n_jobs=1,\n",
       "            oob_score=False, random_state=100, verbose=0, warm_start=False)"
      ]
     },
     "execution_count": 197,
     "metadata": {},
     "output_type": "execute_result"
    }
   ],
   "source": [
    "from sklearn.ensemble import RandomForestClassifier\n",
    "model = RandomForestClassifier(n_estimators=200\n",
    "                               ,random_state=100)\n",
    "\n",
    "model.fit(X,Y)"
   ]
  },
  {
   "cell_type": "code",
   "execution_count": 198,
   "metadata": {},
   "outputs": [
    {
     "data": {
      "text/plain": [
       "<matplotlib.axes._subplots.AxesSubplot at 0x1f7b937bc18>"
      ]
     },
     "execution_count": 198,
     "metadata": {},
     "output_type": "execute_result"
    },
    {
     "data": {
      "image/png": "[encoded data removed]",
      "text/plain": [
       "<matplotlib.figure.Figure at 0x1f7b937b5f8>"
      ]
     },
     "metadata": {},
     "output_type": "display_data"
    }
   ],
   "source": [
    "feat_importances = pd.Series(model.feature_importances_, index=X.columns)\n",
    "feat_importances.nlargest(20).plot(kind='barh')"
   ]
  },
  {
   "cell_type": "markdown",
   "metadata": {},
   "source": [
    "Most important feature that will help us in our prediction is sys_mod_count that is number of incident updates until that moment which makes sense as based on the system updates there will some pattern that what would be best resolution for the given incidents. Next features in reassignment count and if the incident has met SLA or not, symptom and location also coming as important features."
   ]
  },
  {
   "cell_type": "code",
   "execution_count": null,
   "metadata": {},
   "outputs": [],
   "source": []
  }
 ],
 "metadata": {
  "kernelspec": {
   "display_name": "Python 3",
   "language": "python",
   "name": "python3"
  },
  "language_info": {
   "codemirror_mode": {
    "name": "ipython",
    "version": 3
   },
   "file_extension": ".py",
   "mimetype": "text/x-python",
   "name": "python",
   "nbconvert_exporter": "python",
   "pygments_lexer": "ipython3",
   "version": "3.8.16"
  }
 },
 "nbformat": 4,
 "nbformat_minor": 2
}
